{
 "cells": [
  {
   "cell_type": "code",
   "execution_count": 36,
   "id": "df1d5a45",
   "metadata": {},
   "outputs": [],
   "source": [
    "import pandas as pd\n",
    "import numpy as np\n",
    "import matplotlib.pyplot as plt\n",
    "from sklearn.model_selection import train_test_split\n",
    "from sklearn.preprocessing import StandardScaler, LabelEncoder\n",
    "import seaborn as sns\n",
    "\n",
    "df=pd.read_csv('train.csv')"
   ]
  },
  {
   "cell_type": "code",
   "execution_count": 37,
   "id": "bf85880d",
   "metadata": {},
   "outputs": [
    {
     "data": {
      "application/vnd.microsoft.datawrangler.viewer.v0+json": {
       "columns": [
        {
         "name": "index",
         "rawType": "int64",
         "type": "integer"
        },
        {
         "name": "policy_id",
         "rawType": "object",
         "type": "string"
        },
        {
         "name": "policy_tenure",
         "rawType": "float64",
         "type": "float"
        },
        {
         "name": "age_of_car",
         "rawType": "float64",
         "type": "float"
        },
        {
         "name": "age_of_policyholder",
         "rawType": "float64",
         "type": "float"
        },
        {
         "name": "area_cluster",
         "rawType": "object",
         "type": "string"
        },
        {
         "name": "population_density",
         "rawType": "int64",
         "type": "integer"
        },
        {
         "name": "make",
         "rawType": "int64",
         "type": "integer"
        },
        {
         "name": "segment",
         "rawType": "object",
         "type": "string"
        },
        {
         "name": "model",
         "rawType": "object",
         "type": "string"
        },
        {
         "name": "fuel_type",
         "rawType": "object",
         "type": "string"
        },
        {
         "name": "max_torque",
         "rawType": "object",
         "type": "string"
        },
        {
         "name": "max_power",
         "rawType": "object",
         "type": "string"
        },
        {
         "name": "engine_type",
         "rawType": "object",
         "type": "string"
        },
        {
         "name": "airbags",
         "rawType": "int64",
         "type": "integer"
        },
        {
         "name": "is_esc",
         "rawType": "object",
         "type": "string"
        },
        {
         "name": "is_adjustable_steering",
         "rawType": "object",
         "type": "string"
        },
        {
         "name": "is_tpms",
         "rawType": "object",
         "type": "string"
        },
        {
         "name": "is_parking_sensors",
         "rawType": "object",
         "type": "string"
        },
        {
         "name": "is_parking_camera",
         "rawType": "object",
         "type": "string"
        },
        {
         "name": "rear_brakes_type",
         "rawType": "object",
         "type": "string"
        },
        {
         "name": "displacement",
         "rawType": "int64",
         "type": "integer"
        },
        {
         "name": "cylinder",
         "rawType": "int64",
         "type": "integer"
        },
        {
         "name": "transmission_type",
         "rawType": "object",
         "type": "string"
        },
        {
         "name": "gear_box",
         "rawType": "int64",
         "type": "integer"
        },
        {
         "name": "steering_type",
         "rawType": "object",
         "type": "string"
        },
        {
         "name": "turning_radius",
         "rawType": "float64",
         "type": "float"
        },
        {
         "name": "length",
         "rawType": "int64",
         "type": "integer"
        },
        {
         "name": "width",
         "rawType": "int64",
         "type": "integer"
        },
        {
         "name": "height",
         "rawType": "int64",
         "type": "integer"
        },
        {
         "name": "gross_weight",
         "rawType": "int64",
         "type": "integer"
        },
        {
         "name": "is_front_fog_lights",
         "rawType": "object",
         "type": "string"
        },
        {
         "name": "is_rear_window_wiper",
         "rawType": "object",
         "type": "string"
        },
        {
         "name": "is_rear_window_washer",
         "rawType": "object",
         "type": "string"
        },
        {
         "name": "is_rear_window_defogger",
         "rawType": "object",
         "type": "string"
        },
        {
         "name": "is_brake_assist",
         "rawType": "object",
         "type": "string"
        },
        {
         "name": "is_power_door_locks",
         "rawType": "object",
         "type": "string"
        },
        {
         "name": "is_central_locking",
         "rawType": "object",
         "type": "string"
        },
        {
         "name": "is_power_steering",
         "rawType": "object",
         "type": "string"
        },
        {
         "name": "is_driver_seat_height_adjustable",
         "rawType": "object",
         "type": "string"
        },
        {
         "name": "is_day_night_rear_view_mirror",
         "rawType": "object",
         "type": "string"
        },
        {
         "name": "is_ecw",
         "rawType": "object",
         "type": "string"
        },
        {
         "name": "is_speed_alert",
         "rawType": "object",
         "type": "string"
        },
        {
         "name": "ncap_rating",
         "rawType": "int64",
         "type": "integer"
        },
        {
         "name": "is_claim",
         "rawType": "int64",
         "type": "integer"
        }
       ],
       "ref": "b85ec66d-9acf-4d31-acef-a4ba89c922a3",
       "rows": [
        [
         "0",
         "ID00001",
         "0.515873589958172",
         "0.05",
         "0.644230769230769",
         "C1",
         "4990",
         "1",
         "A",
         "M1",
         "CNG",
         "60Nm@3500rpm",
         "40.36bhp@6000rpm",
         "F8D Petrol Engine",
         "2",
         "No",
         "No",
         "No",
         "Yes",
         "No",
         "Drum",
         "796",
         "3",
         "Manual",
         "5",
         "Power",
         "4.6",
         "3445",
         "1515",
         "1475",
         "1185",
         "No",
         "No",
         "No",
         "No",
         "No",
         "No",
         "No",
         "Yes",
         "No",
         "No",
         "No",
         "Yes",
         "0",
         "0"
        ],
        [
         "1",
         "ID00002",
         "0.672618513547733",
         "0.02",
         "0.375",
         "C2",
         "27003",
         "1",
         "A",
         "M1",
         "CNG",
         "60Nm@3500rpm",
         "40.36bhp@6000rpm",
         "F8D Petrol Engine",
         "2",
         "No",
         "No",
         "No",
         "Yes",
         "No",
         "Drum",
         "796",
         "3",
         "Manual",
         "5",
         "Power",
         "4.6",
         "3445",
         "1515",
         "1475",
         "1185",
         "No",
         "No",
         "No",
         "No",
         "No",
         "No",
         "No",
         "Yes",
         "No",
         "No",
         "No",
         "Yes",
         "0",
         "0"
        ],
        [
         "2",
         "ID00003",
         "0.841110255796233",
         "0.02",
         "0.384615384615385",
         "C3",
         "4076",
         "1",
         "A",
         "M1",
         "CNG",
         "60Nm@3500rpm",
         "40.36bhp@6000rpm",
         "F8D Petrol Engine",
         "2",
         "No",
         "No",
         "No",
         "Yes",
         "No",
         "Drum",
         "796",
         "3",
         "Manual",
         "5",
         "Power",
         "4.6",
         "3445",
         "1515",
         "1475",
         "1185",
         "No",
         "No",
         "No",
         "No",
         "No",
         "No",
         "No",
         "Yes",
         "No",
         "No",
         "No",
         "Yes",
         "0",
         "0"
        ],
        [
         "3",
         "ID00004",
         "0.900276558749967",
         "0.11",
         "0.432692307692308",
         "C4",
         "21622",
         "1",
         "C1",
         "M2",
         "Petrol",
         "113Nm@4400rpm",
         "88.50bhp@6000rpm",
         "1.2 L K12N Dualjet",
         "2",
         "Yes",
         "Yes",
         "No",
         "Yes",
         "Yes",
         "Drum",
         "1197",
         "4",
         "Automatic",
         "5",
         "Electric",
         "4.8",
         "3995",
         "1735",
         "1515",
         "1335",
         "Yes",
         "No",
         "No",
         "Yes",
         "Yes",
         "Yes",
         "Yes",
         "Yes",
         "Yes",
         "Yes",
         "Yes",
         "Yes",
         "2",
         "0"
        ],
        [
         "4",
         "ID00005",
         "0.596402813108729",
         "0.11",
         "0.634615384615385",
         "C5",
         "34738",
         "2",
         "A",
         "M3",
         "Petrol",
         "91Nm@4250rpm",
         "67.06bhp@5500rpm",
         "1.0 SCe",
         "2",
         "No",
         "No",
         "No",
         "No",
         "Yes",
         "Drum",
         "999",
         "3",
         "Automatic",
         "5",
         "Electric",
         "5.0",
         "3731",
         "1579",
         "1490",
         "1155",
         "No",
         "No",
         "No",
         "No",
         "No",
         "Yes",
         "Yes",
         "Yes",
         "No",
         "Yes",
         "Yes",
         "Yes",
         "2",
         "0"
        ]
       ],
       "shape": {
        "columns": 44,
        "rows": 5
       }
      },
      "text/html": [
       "<div>\n",
       "<style scoped>\n",
       "    .dataframe tbody tr th:only-of-type {\n",
       "        vertical-align: middle;\n",
       "    }\n",
       "\n",
       "    .dataframe tbody tr th {\n",
       "        vertical-align: top;\n",
       "    }\n",
       "\n",
       "    .dataframe thead th {\n",
       "        text-align: right;\n",
       "    }\n",
       "</style>\n",
       "<table border=\"1\" class=\"dataframe\">\n",
       "  <thead>\n",
       "    <tr style=\"text-align: right;\">\n",
       "      <th></th>\n",
       "      <th>policy_id</th>\n",
       "      <th>policy_tenure</th>\n",
       "      <th>age_of_car</th>\n",
       "      <th>age_of_policyholder</th>\n",
       "      <th>area_cluster</th>\n",
       "      <th>population_density</th>\n",
       "      <th>make</th>\n",
       "      <th>segment</th>\n",
       "      <th>model</th>\n",
       "      <th>fuel_type</th>\n",
       "      <th>...</th>\n",
       "      <th>is_brake_assist</th>\n",
       "      <th>is_power_door_locks</th>\n",
       "      <th>is_central_locking</th>\n",
       "      <th>is_power_steering</th>\n",
       "      <th>is_driver_seat_height_adjustable</th>\n",
       "      <th>is_day_night_rear_view_mirror</th>\n",
       "      <th>is_ecw</th>\n",
       "      <th>is_speed_alert</th>\n",
       "      <th>ncap_rating</th>\n",
       "      <th>is_claim</th>\n",
       "    </tr>\n",
       "  </thead>\n",
       "  <tbody>\n",
       "    <tr>\n",
       "      <th>0</th>\n",
       "      <td>ID00001</td>\n",
       "      <td>0.515874</td>\n",
       "      <td>0.05</td>\n",
       "      <td>0.644231</td>\n",
       "      <td>C1</td>\n",
       "      <td>4990</td>\n",
       "      <td>1</td>\n",
       "      <td>A</td>\n",
       "      <td>M1</td>\n",
       "      <td>CNG</td>\n",
       "      <td>...</td>\n",
       "      <td>No</td>\n",
       "      <td>No</td>\n",
       "      <td>No</td>\n",
       "      <td>Yes</td>\n",
       "      <td>No</td>\n",
       "      <td>No</td>\n",
       "      <td>No</td>\n",
       "      <td>Yes</td>\n",
       "      <td>0</td>\n",
       "      <td>0</td>\n",
       "    </tr>\n",
       "    <tr>\n",
       "      <th>1</th>\n",
       "      <td>ID00002</td>\n",
       "      <td>0.672619</td>\n",
       "      <td>0.02</td>\n",
       "      <td>0.375000</td>\n",
       "      <td>C2</td>\n",
       "      <td>27003</td>\n",
       "      <td>1</td>\n",
       "      <td>A</td>\n",
       "      <td>M1</td>\n",
       "      <td>CNG</td>\n",
       "      <td>...</td>\n",
       "      <td>No</td>\n",
       "      <td>No</td>\n",
       "      <td>No</td>\n",
       "      <td>Yes</td>\n",
       "      <td>No</td>\n",
       "      <td>No</td>\n",
       "      <td>No</td>\n",
       "      <td>Yes</td>\n",
       "      <td>0</td>\n",
       "      <td>0</td>\n",
       "    </tr>\n",
       "    <tr>\n",
       "      <th>2</th>\n",
       "      <td>ID00003</td>\n",
       "      <td>0.841110</td>\n",
       "      <td>0.02</td>\n",
       "      <td>0.384615</td>\n",
       "      <td>C3</td>\n",
       "      <td>4076</td>\n",
       "      <td>1</td>\n",
       "      <td>A</td>\n",
       "      <td>M1</td>\n",
       "      <td>CNG</td>\n",
       "      <td>...</td>\n",
       "      <td>No</td>\n",
       "      <td>No</td>\n",
       "      <td>No</td>\n",
       "      <td>Yes</td>\n",
       "      <td>No</td>\n",
       "      <td>No</td>\n",
       "      <td>No</td>\n",
       "      <td>Yes</td>\n",
       "      <td>0</td>\n",
       "      <td>0</td>\n",
       "    </tr>\n",
       "    <tr>\n",
       "      <th>3</th>\n",
       "      <td>ID00004</td>\n",
       "      <td>0.900277</td>\n",
       "      <td>0.11</td>\n",
       "      <td>0.432692</td>\n",
       "      <td>C4</td>\n",
       "      <td>21622</td>\n",
       "      <td>1</td>\n",
       "      <td>C1</td>\n",
       "      <td>M2</td>\n",
       "      <td>Petrol</td>\n",
       "      <td>...</td>\n",
       "      <td>Yes</td>\n",
       "      <td>Yes</td>\n",
       "      <td>Yes</td>\n",
       "      <td>Yes</td>\n",
       "      <td>Yes</td>\n",
       "      <td>Yes</td>\n",
       "      <td>Yes</td>\n",
       "      <td>Yes</td>\n",
       "      <td>2</td>\n",
       "      <td>0</td>\n",
       "    </tr>\n",
       "    <tr>\n",
       "      <th>4</th>\n",
       "      <td>ID00005</td>\n",
       "      <td>0.596403</td>\n",
       "      <td>0.11</td>\n",
       "      <td>0.634615</td>\n",
       "      <td>C5</td>\n",
       "      <td>34738</td>\n",
       "      <td>2</td>\n",
       "      <td>A</td>\n",
       "      <td>M3</td>\n",
       "      <td>Petrol</td>\n",
       "      <td>...</td>\n",
       "      <td>No</td>\n",
       "      <td>Yes</td>\n",
       "      <td>Yes</td>\n",
       "      <td>Yes</td>\n",
       "      <td>No</td>\n",
       "      <td>Yes</td>\n",
       "      <td>Yes</td>\n",
       "      <td>Yes</td>\n",
       "      <td>2</td>\n",
       "      <td>0</td>\n",
       "    </tr>\n",
       "  </tbody>\n",
       "</table>\n",
       "<p>5 rows × 44 columns</p>\n",
       "</div>"
      ],
      "text/plain": [
       "  policy_id  policy_tenure  age_of_car  age_of_policyholder area_cluster  \\\n",
       "0   ID00001       0.515874        0.05             0.644231           C1   \n",
       "1   ID00002       0.672619        0.02             0.375000           C2   \n",
       "2   ID00003       0.841110        0.02             0.384615           C3   \n",
       "3   ID00004       0.900277        0.11             0.432692           C4   \n",
       "4   ID00005       0.596403        0.11             0.634615           C5   \n",
       "\n",
       "   population_density  make segment model fuel_type  ... is_brake_assist  \\\n",
       "0                4990     1       A    M1       CNG  ...              No   \n",
       "1               27003     1       A    M1       CNG  ...              No   \n",
       "2                4076     1       A    M1       CNG  ...              No   \n",
       "3               21622     1      C1    M2    Petrol  ...             Yes   \n",
       "4               34738     2       A    M3    Petrol  ...              No   \n",
       "\n",
       "  is_power_door_locks is_central_locking  is_power_steering  \\\n",
       "0                  No                 No                Yes   \n",
       "1                  No                 No                Yes   \n",
       "2                  No                 No                Yes   \n",
       "3                 Yes                Yes                Yes   \n",
       "4                 Yes                Yes                Yes   \n",
       "\n",
       "  is_driver_seat_height_adjustable is_day_night_rear_view_mirror is_ecw  \\\n",
       "0                               No                            No     No   \n",
       "1                               No                            No     No   \n",
       "2                               No                            No     No   \n",
       "3                              Yes                           Yes    Yes   \n",
       "4                               No                           Yes    Yes   \n",
       "\n",
       "  is_speed_alert ncap_rating is_claim  \n",
       "0            Yes           0        0  \n",
       "1            Yes           0        0  \n",
       "2            Yes           0        0  \n",
       "3            Yes           2        0  \n",
       "4            Yes           2        0  \n",
       "\n",
       "[5 rows x 44 columns]"
      ]
     },
     "execution_count": 37,
     "metadata": {},
     "output_type": "execute_result"
    }
   ],
   "source": [
    "df.head()"
   ]
  },
  {
   "cell_type": "code",
   "execution_count": 38,
   "id": "cadf77e5",
   "metadata": {},
   "outputs": [
    {
     "data": {
      "text/plain": [
       "(58592, 44)"
      ]
     },
     "execution_count": 38,
     "metadata": {},
     "output_type": "execute_result"
    }
   ],
   "source": [
    "df.shape"
   ]
  },
  {
   "cell_type": "code",
   "execution_count": 39,
   "id": "f503769e",
   "metadata": {},
   "outputs": [],
   "source": [
    "df.drop(['policy_id'], axis=1, inplace=True)"
   ]
  },
  {
   "cell_type": "code",
   "execution_count": 40,
   "id": "ea0a8f28",
   "metadata": {},
   "outputs": [
    {
     "data": {
      "application/vnd.microsoft.datawrangler.viewer.v0+json": {
       "columns": [
        {
         "name": "index",
         "rawType": "object",
         "type": "string"
        },
        {
         "name": "0",
         "rawType": "int64",
         "type": "integer"
        }
       ],
       "ref": "423440e6-fbb5-401e-9d01-377af8cb5d42",
       "rows": [
        [
         "policy_tenure",
         "0"
        ],
        [
         "age_of_car",
         "0"
        ],
        [
         "age_of_policyholder",
         "0"
        ],
        [
         "area_cluster",
         "0"
        ],
        [
         "population_density",
         "0"
        ],
        [
         "make",
         "0"
        ],
        [
         "segment",
         "0"
        ],
        [
         "model",
         "0"
        ],
        [
         "fuel_type",
         "0"
        ],
        [
         "max_torque",
         "0"
        ],
        [
         "max_power",
         "0"
        ],
        [
         "engine_type",
         "0"
        ],
        [
         "airbags",
         "0"
        ],
        [
         "is_esc",
         "0"
        ],
        [
         "is_adjustable_steering",
         "0"
        ],
        [
         "is_tpms",
         "0"
        ],
        [
         "is_parking_sensors",
         "0"
        ],
        [
         "is_parking_camera",
         "0"
        ],
        [
         "rear_brakes_type",
         "0"
        ],
        [
         "displacement",
         "0"
        ],
        [
         "cylinder",
         "0"
        ],
        [
         "transmission_type",
         "0"
        ],
        [
         "gear_box",
         "0"
        ],
        [
         "steering_type",
         "0"
        ],
        [
         "turning_radius",
         "0"
        ],
        [
         "length",
         "0"
        ],
        [
         "width",
         "0"
        ],
        [
         "height",
         "0"
        ],
        [
         "gross_weight",
         "0"
        ],
        [
         "is_front_fog_lights",
         "0"
        ],
        [
         "is_rear_window_wiper",
         "0"
        ],
        [
         "is_rear_window_washer",
         "0"
        ],
        [
         "is_rear_window_defogger",
         "0"
        ],
        [
         "is_brake_assist",
         "0"
        ],
        [
         "is_power_door_locks",
         "0"
        ],
        [
         "is_central_locking",
         "0"
        ],
        [
         "is_power_steering",
         "0"
        ],
        [
         "is_driver_seat_height_adjustable",
         "0"
        ],
        [
         "is_day_night_rear_view_mirror",
         "0"
        ],
        [
         "is_ecw",
         "0"
        ],
        [
         "is_speed_alert",
         "0"
        ],
        [
         "ncap_rating",
         "0"
        ],
        [
         "is_claim",
         "0"
        ]
       ],
       "shape": {
        "columns": 1,
        "rows": 43
       }
      },
      "text/plain": [
       "policy_tenure                       0\n",
       "age_of_car                          0\n",
       "age_of_policyholder                 0\n",
       "area_cluster                        0\n",
       "population_density                  0\n",
       "make                                0\n",
       "segment                             0\n",
       "model                               0\n",
       "fuel_type                           0\n",
       "max_torque                          0\n",
       "max_power                           0\n",
       "engine_type                         0\n",
       "airbags                             0\n",
       "is_esc                              0\n",
       "is_adjustable_steering              0\n",
       "is_tpms                             0\n",
       "is_parking_sensors                  0\n",
       "is_parking_camera                   0\n",
       "rear_brakes_type                    0\n",
       "displacement                        0\n",
       "cylinder                            0\n",
       "transmission_type                   0\n",
       "gear_box                            0\n",
       "steering_type                       0\n",
       "turning_radius                      0\n",
       "length                              0\n",
       "width                               0\n",
       "height                              0\n",
       "gross_weight                        0\n",
       "is_front_fog_lights                 0\n",
       "is_rear_window_wiper                0\n",
       "is_rear_window_washer               0\n",
       "is_rear_window_defogger             0\n",
       "is_brake_assist                     0\n",
       "is_power_door_locks                 0\n",
       "is_central_locking                  0\n",
       "is_power_steering                   0\n",
       "is_driver_seat_height_adjustable    0\n",
       "is_day_night_rear_view_mirror       0\n",
       "is_ecw                              0\n",
       "is_speed_alert                      0\n",
       "ncap_rating                         0\n",
       "is_claim                            0\n",
       "dtype: int64"
      ]
     },
     "execution_count": 40,
     "metadata": {},
     "output_type": "execute_result"
    }
   ],
   "source": [
    "df.isna().sum()"
   ]
  },
  {
   "cell_type": "code",
   "execution_count": 41,
   "id": "9ebb47ad",
   "metadata": {},
   "outputs": [
    {
     "data": {
      "text/plain": [
       "(58592, 43)"
      ]
     },
     "execution_count": 41,
     "metadata": {},
     "output_type": "execute_result"
    }
   ],
   "source": [
    "df.shape"
   ]
  },
  {
   "cell_type": "code",
   "execution_count": 42,
   "id": "060b9729",
   "metadata": {},
   "outputs": [
    {
     "data": {
      "application/vnd.microsoft.datawrangler.viewer.v0+json": {
       "columns": [
        {
         "name": "index",
         "rawType": "int64",
         "type": "integer"
        },
        {
         "name": "policy_tenure",
         "rawType": "float64",
         "type": "float"
        },
        {
         "name": "age_of_car",
         "rawType": "float64",
         "type": "float"
        },
        {
         "name": "age_of_policyholder",
         "rawType": "float64",
         "type": "float"
        },
        {
         "name": "area_cluster",
         "rawType": "object",
         "type": "string"
        },
        {
         "name": "population_density",
         "rawType": "int64",
         "type": "integer"
        },
        {
         "name": "make",
         "rawType": "int64",
         "type": "integer"
        },
        {
         "name": "segment",
         "rawType": "object",
         "type": "string"
        },
        {
         "name": "model",
         "rawType": "object",
         "type": "string"
        },
        {
         "name": "fuel_type",
         "rawType": "object",
         "type": "string"
        },
        {
         "name": "max_torque",
         "rawType": "object",
         "type": "string"
        },
        {
         "name": "max_power",
         "rawType": "object",
         "type": "string"
        },
        {
         "name": "engine_type",
         "rawType": "object",
         "type": "string"
        },
        {
         "name": "airbags",
         "rawType": "int64",
         "type": "integer"
        },
        {
         "name": "is_esc",
         "rawType": "object",
         "type": "string"
        },
        {
         "name": "is_adjustable_steering",
         "rawType": "object",
         "type": "string"
        },
        {
         "name": "is_tpms",
         "rawType": "object",
         "type": "string"
        },
        {
         "name": "is_parking_sensors",
         "rawType": "object",
         "type": "string"
        },
        {
         "name": "is_parking_camera",
         "rawType": "object",
         "type": "string"
        },
        {
         "name": "rear_brakes_type",
         "rawType": "object",
         "type": "string"
        },
        {
         "name": "displacement",
         "rawType": "int64",
         "type": "integer"
        },
        {
         "name": "cylinder",
         "rawType": "int64",
         "type": "integer"
        },
        {
         "name": "transmission_type",
         "rawType": "object",
         "type": "string"
        },
        {
         "name": "gear_box",
         "rawType": "int64",
         "type": "integer"
        },
        {
         "name": "steering_type",
         "rawType": "object",
         "type": "string"
        },
        {
         "name": "turning_radius",
         "rawType": "float64",
         "type": "float"
        },
        {
         "name": "length",
         "rawType": "int64",
         "type": "integer"
        },
        {
         "name": "width",
         "rawType": "int64",
         "type": "integer"
        },
        {
         "name": "height",
         "rawType": "int64",
         "type": "integer"
        },
        {
         "name": "gross_weight",
         "rawType": "int64",
         "type": "integer"
        },
        {
         "name": "is_front_fog_lights",
         "rawType": "object",
         "type": "string"
        },
        {
         "name": "is_rear_window_wiper",
         "rawType": "object",
         "type": "string"
        },
        {
         "name": "is_rear_window_washer",
         "rawType": "object",
         "type": "string"
        },
        {
         "name": "is_rear_window_defogger",
         "rawType": "object",
         "type": "string"
        },
        {
         "name": "is_brake_assist",
         "rawType": "object",
         "type": "string"
        },
        {
         "name": "is_power_door_locks",
         "rawType": "object",
         "type": "string"
        },
        {
         "name": "is_central_locking",
         "rawType": "object",
         "type": "string"
        },
        {
         "name": "is_power_steering",
         "rawType": "object",
         "type": "string"
        },
        {
         "name": "is_driver_seat_height_adjustable",
         "rawType": "object",
         "type": "string"
        },
        {
         "name": "is_day_night_rear_view_mirror",
         "rawType": "object",
         "type": "string"
        },
        {
         "name": "is_ecw",
         "rawType": "object",
         "type": "string"
        },
        {
         "name": "is_speed_alert",
         "rawType": "object",
         "type": "string"
        },
        {
         "name": "ncap_rating",
         "rawType": "int64",
         "type": "integer"
        },
        {
         "name": "is_claim",
         "rawType": "int64",
         "type": "integer"
        }
       ],
       "ref": "6b7c07cb-7086-4b5e-a9c4-9a3247f456be",
       "rows": [
        [
         "0",
         "0.515873589958172",
         "0.05",
         "0.644230769230769",
         "C1",
         "4990",
         "1",
         "A",
         "M1",
         "CNG",
         "60Nm@3500rpm",
         "40.36bhp@6000rpm",
         "F8D Petrol Engine",
         "2",
         "No",
         "No",
         "No",
         "Yes",
         "No",
         "Drum",
         "796",
         "3",
         "Manual",
         "5",
         "Power",
         "4.6",
         "3445",
         "1515",
         "1475",
         "1185",
         "No",
         "No",
         "No",
         "No",
         "No",
         "No",
         "No",
         "Yes",
         "No",
         "No",
         "No",
         "Yes",
         "0",
         "0"
        ],
        [
         "1",
         "0.672618513547733",
         "0.02",
         "0.375",
         "C2",
         "27003",
         "1",
         "A",
         "M1",
         "CNG",
         "60Nm@3500rpm",
         "40.36bhp@6000rpm",
         "F8D Petrol Engine",
         "2",
         "No",
         "No",
         "No",
         "Yes",
         "No",
         "Drum",
         "796",
         "3",
         "Manual",
         "5",
         "Power",
         "4.6",
         "3445",
         "1515",
         "1475",
         "1185",
         "No",
         "No",
         "No",
         "No",
         "No",
         "No",
         "No",
         "Yes",
         "No",
         "No",
         "No",
         "Yes",
         "0",
         "0"
        ],
        [
         "2",
         "0.841110255796233",
         "0.02",
         "0.384615384615385",
         "C3",
         "4076",
         "1",
         "A",
         "M1",
         "CNG",
         "60Nm@3500rpm",
         "40.36bhp@6000rpm",
         "F8D Petrol Engine",
         "2",
         "No",
         "No",
         "No",
         "Yes",
         "No",
         "Drum",
         "796",
         "3",
         "Manual",
         "5",
         "Power",
         "4.6",
         "3445",
         "1515",
         "1475",
         "1185",
         "No",
         "No",
         "No",
         "No",
         "No",
         "No",
         "No",
         "Yes",
         "No",
         "No",
         "No",
         "Yes",
         "0",
         "0"
        ],
        [
         "3",
         "0.900276558749967",
         "0.11",
         "0.432692307692308",
         "C4",
         "21622",
         "1",
         "C1",
         "M2",
         "Petrol",
         "113Nm@4400rpm",
         "88.50bhp@6000rpm",
         "1.2 L K12N Dualjet",
         "2",
         "Yes",
         "Yes",
         "No",
         "Yes",
         "Yes",
         "Drum",
         "1197",
         "4",
         "Automatic",
         "5",
         "Electric",
         "4.8",
         "3995",
         "1735",
         "1515",
         "1335",
         "Yes",
         "No",
         "No",
         "Yes",
         "Yes",
         "Yes",
         "Yes",
         "Yes",
         "Yes",
         "Yes",
         "Yes",
         "Yes",
         "2",
         "0"
        ],
        [
         "4",
         "0.596402813108729",
         "0.11",
         "0.634615384615385",
         "C5",
         "34738",
         "2",
         "A",
         "M3",
         "Petrol",
         "91Nm@4250rpm",
         "67.06bhp@5500rpm",
         "1.0 SCe",
         "2",
         "No",
         "No",
         "No",
         "No",
         "Yes",
         "Drum",
         "999",
         "3",
         "Automatic",
         "5",
         "Electric",
         "5.0",
         "3731",
         "1579",
         "1490",
         "1155",
         "No",
         "No",
         "No",
         "No",
         "No",
         "Yes",
         "Yes",
         "Yes",
         "No",
         "Yes",
         "Yes",
         "Yes",
         "2",
         "0"
        ]
       ],
       "shape": {
        "columns": 43,
        "rows": 5
       }
      },
      "text/html": [
       "<div>\n",
       "<style scoped>\n",
       "    .dataframe tbody tr th:only-of-type {\n",
       "        vertical-align: middle;\n",
       "    }\n",
       "\n",
       "    .dataframe tbody tr th {\n",
       "        vertical-align: top;\n",
       "    }\n",
       "\n",
       "    .dataframe thead th {\n",
       "        text-align: right;\n",
       "    }\n",
       "</style>\n",
       "<table border=\"1\" class=\"dataframe\">\n",
       "  <thead>\n",
       "    <tr style=\"text-align: right;\">\n",
       "      <th></th>\n",
       "      <th>policy_tenure</th>\n",
       "      <th>age_of_car</th>\n",
       "      <th>age_of_policyholder</th>\n",
       "      <th>area_cluster</th>\n",
       "      <th>population_density</th>\n",
       "      <th>make</th>\n",
       "      <th>segment</th>\n",
       "      <th>model</th>\n",
       "      <th>fuel_type</th>\n",
       "      <th>max_torque</th>\n",
       "      <th>...</th>\n",
       "      <th>is_brake_assist</th>\n",
       "      <th>is_power_door_locks</th>\n",
       "      <th>is_central_locking</th>\n",
       "      <th>is_power_steering</th>\n",
       "      <th>is_driver_seat_height_adjustable</th>\n",
       "      <th>is_day_night_rear_view_mirror</th>\n",
       "      <th>is_ecw</th>\n",
       "      <th>is_speed_alert</th>\n",
       "      <th>ncap_rating</th>\n",
       "      <th>is_claim</th>\n",
       "    </tr>\n",
       "  </thead>\n",
       "  <tbody>\n",
       "    <tr>\n",
       "      <th>0</th>\n",
       "      <td>0.515874</td>\n",
       "      <td>0.05</td>\n",
       "      <td>0.644231</td>\n",
       "      <td>C1</td>\n",
       "      <td>4990</td>\n",
       "      <td>1</td>\n",
       "      <td>A</td>\n",
       "      <td>M1</td>\n",
       "      <td>CNG</td>\n",
       "      <td>60Nm@3500rpm</td>\n",
       "      <td>...</td>\n",
       "      <td>No</td>\n",
       "      <td>No</td>\n",
       "      <td>No</td>\n",
       "      <td>Yes</td>\n",
       "      <td>No</td>\n",
       "      <td>No</td>\n",
       "      <td>No</td>\n",
       "      <td>Yes</td>\n",
       "      <td>0</td>\n",
       "      <td>0</td>\n",
       "    </tr>\n",
       "    <tr>\n",
       "      <th>1</th>\n",
       "      <td>0.672619</td>\n",
       "      <td>0.02</td>\n",
       "      <td>0.375000</td>\n",
       "      <td>C2</td>\n",
       "      <td>27003</td>\n",
       "      <td>1</td>\n",
       "      <td>A</td>\n",
       "      <td>M1</td>\n",
       "      <td>CNG</td>\n",
       "      <td>60Nm@3500rpm</td>\n",
       "      <td>...</td>\n",
       "      <td>No</td>\n",
       "      <td>No</td>\n",
       "      <td>No</td>\n",
       "      <td>Yes</td>\n",
       "      <td>No</td>\n",
       "      <td>No</td>\n",
       "      <td>No</td>\n",
       "      <td>Yes</td>\n",
       "      <td>0</td>\n",
       "      <td>0</td>\n",
       "    </tr>\n",
       "    <tr>\n",
       "      <th>2</th>\n",
       "      <td>0.841110</td>\n",
       "      <td>0.02</td>\n",
       "      <td>0.384615</td>\n",
       "      <td>C3</td>\n",
       "      <td>4076</td>\n",
       "      <td>1</td>\n",
       "      <td>A</td>\n",
       "      <td>M1</td>\n",
       "      <td>CNG</td>\n",
       "      <td>60Nm@3500rpm</td>\n",
       "      <td>...</td>\n",
       "      <td>No</td>\n",
       "      <td>No</td>\n",
       "      <td>No</td>\n",
       "      <td>Yes</td>\n",
       "      <td>No</td>\n",
       "      <td>No</td>\n",
       "      <td>No</td>\n",
       "      <td>Yes</td>\n",
       "      <td>0</td>\n",
       "      <td>0</td>\n",
       "    </tr>\n",
       "    <tr>\n",
       "      <th>3</th>\n",
       "      <td>0.900277</td>\n",
       "      <td>0.11</td>\n",
       "      <td>0.432692</td>\n",
       "      <td>C4</td>\n",
       "      <td>21622</td>\n",
       "      <td>1</td>\n",
       "      <td>C1</td>\n",
       "      <td>M2</td>\n",
       "      <td>Petrol</td>\n",
       "      <td>113Nm@4400rpm</td>\n",
       "      <td>...</td>\n",
       "      <td>Yes</td>\n",
       "      <td>Yes</td>\n",
       "      <td>Yes</td>\n",
       "      <td>Yes</td>\n",
       "      <td>Yes</td>\n",
       "      <td>Yes</td>\n",
       "      <td>Yes</td>\n",
       "      <td>Yes</td>\n",
       "      <td>2</td>\n",
       "      <td>0</td>\n",
       "    </tr>\n",
       "    <tr>\n",
       "      <th>4</th>\n",
       "      <td>0.596403</td>\n",
       "      <td>0.11</td>\n",
       "      <td>0.634615</td>\n",
       "      <td>C5</td>\n",
       "      <td>34738</td>\n",
       "      <td>2</td>\n",
       "      <td>A</td>\n",
       "      <td>M3</td>\n",
       "      <td>Petrol</td>\n",
       "      <td>91Nm@4250rpm</td>\n",
       "      <td>...</td>\n",
       "      <td>No</td>\n",
       "      <td>Yes</td>\n",
       "      <td>Yes</td>\n",
       "      <td>Yes</td>\n",
       "      <td>No</td>\n",
       "      <td>Yes</td>\n",
       "      <td>Yes</td>\n",
       "      <td>Yes</td>\n",
       "      <td>2</td>\n",
       "      <td>0</td>\n",
       "    </tr>\n",
       "  </tbody>\n",
       "</table>\n",
       "<p>5 rows × 43 columns</p>\n",
       "</div>"
      ],
      "text/plain": [
       "   policy_tenure  age_of_car  age_of_policyholder area_cluster  \\\n",
       "0       0.515874        0.05             0.644231           C1   \n",
       "1       0.672619        0.02             0.375000           C2   \n",
       "2       0.841110        0.02             0.384615           C3   \n",
       "3       0.900277        0.11             0.432692           C4   \n",
       "4       0.596403        0.11             0.634615           C5   \n",
       "\n",
       "   population_density  make segment model fuel_type     max_torque  ...  \\\n",
       "0                4990     1       A    M1       CNG   60Nm@3500rpm  ...   \n",
       "1               27003     1       A    M1       CNG   60Nm@3500rpm  ...   \n",
       "2                4076     1       A    M1       CNG   60Nm@3500rpm  ...   \n",
       "3               21622     1      C1    M2    Petrol  113Nm@4400rpm  ...   \n",
       "4               34738     2       A    M3    Petrol   91Nm@4250rpm  ...   \n",
       "\n",
       "  is_brake_assist is_power_door_locks  is_central_locking is_power_steering  \\\n",
       "0              No                  No                  No               Yes   \n",
       "1              No                  No                  No               Yes   \n",
       "2              No                  No                  No               Yes   \n",
       "3             Yes                 Yes                 Yes               Yes   \n",
       "4              No                 Yes                 Yes               Yes   \n",
       "\n",
       "  is_driver_seat_height_adjustable is_day_night_rear_view_mirror is_ecw  \\\n",
       "0                               No                            No     No   \n",
       "1                               No                            No     No   \n",
       "2                               No                            No     No   \n",
       "3                              Yes                           Yes    Yes   \n",
       "4                               No                           Yes    Yes   \n",
       "\n",
       "  is_speed_alert ncap_rating  is_claim  \n",
       "0            Yes           0         0  \n",
       "1            Yes           0         0  \n",
       "2            Yes           0         0  \n",
       "3            Yes           2         0  \n",
       "4            Yes           2         0  \n",
       "\n",
       "[5 rows x 43 columns]"
      ]
     },
     "execution_count": 42,
     "metadata": {},
     "output_type": "execute_result"
    }
   ],
   "source": [
    "df.head()"
   ]
  },
  {
   "cell_type": "code",
   "execution_count": 43,
   "id": "9f3168b2",
   "metadata": {},
   "outputs": [
    {
     "data": {
      "text/plain": [
       "np.int64(0)"
      ]
     },
     "execution_count": 43,
     "metadata": {},
     "output_type": "execute_result"
    }
   ],
   "source": [
    "df.duplicated().sum()  "
   ]
  },
  {
   "cell_type": "code",
   "execution_count": 44,
   "id": "ae57fda9",
   "metadata": {},
   "outputs": [
    {
     "data": {
      "application/vnd.microsoft.datawrangler.viewer.v0+json": {
       "columns": [
        {
         "name": "index",
         "rawType": "int64",
         "type": "integer"
        },
        {
         "name": "policy_tenure",
         "rawType": "float64",
         "type": "float"
        },
        {
         "name": "age_of_car",
         "rawType": "float64",
         "type": "float"
        },
        {
         "name": "age_of_policyholder",
         "rawType": "float64",
         "type": "float"
        },
        {
         "name": "area_cluster",
         "rawType": "object",
         "type": "string"
        },
        {
         "name": "population_density",
         "rawType": "int64",
         "type": "integer"
        },
        {
         "name": "make",
         "rawType": "int64",
         "type": "integer"
        },
        {
         "name": "segment",
         "rawType": "object",
         "type": "string"
        },
        {
         "name": "model",
         "rawType": "object",
         "type": "string"
        },
        {
         "name": "fuel_type",
         "rawType": "object",
         "type": "string"
        },
        {
         "name": "engine_type",
         "rawType": "object",
         "type": "string"
        },
        {
         "name": "airbags",
         "rawType": "int64",
         "type": "integer"
        },
        {
         "name": "is_esc",
         "rawType": "object",
         "type": "string"
        },
        {
         "name": "is_adjustable_steering",
         "rawType": "object",
         "type": "string"
        },
        {
         "name": "is_tpms",
         "rawType": "object",
         "type": "string"
        },
        {
         "name": "is_parking_sensors",
         "rawType": "object",
         "type": "string"
        },
        {
         "name": "is_parking_camera",
         "rawType": "object",
         "type": "string"
        },
        {
         "name": "rear_brakes_type",
         "rawType": "object",
         "type": "string"
        },
        {
         "name": "displacement",
         "rawType": "int64",
         "type": "integer"
        },
        {
         "name": "cylinder",
         "rawType": "int64",
         "type": "integer"
        },
        {
         "name": "transmission_type",
         "rawType": "object",
         "type": "string"
        },
        {
         "name": "gear_box",
         "rawType": "int64",
         "type": "integer"
        },
        {
         "name": "steering_type",
         "rawType": "object",
         "type": "string"
        },
        {
         "name": "turning_radius",
         "rawType": "float64",
         "type": "float"
        },
        {
         "name": "length",
         "rawType": "int64",
         "type": "integer"
        },
        {
         "name": "width",
         "rawType": "int64",
         "type": "integer"
        },
        {
         "name": "height",
         "rawType": "int64",
         "type": "integer"
        },
        {
         "name": "gross_weight",
         "rawType": "int64",
         "type": "integer"
        },
        {
         "name": "is_front_fog_lights",
         "rawType": "object",
         "type": "string"
        },
        {
         "name": "is_rear_window_wiper",
         "rawType": "object",
         "type": "string"
        },
        {
         "name": "is_rear_window_washer",
         "rawType": "object",
         "type": "string"
        },
        {
         "name": "is_rear_window_defogger",
         "rawType": "object",
         "type": "string"
        },
        {
         "name": "is_brake_assist",
         "rawType": "object",
         "type": "string"
        },
        {
         "name": "is_power_door_locks",
         "rawType": "object",
         "type": "string"
        },
        {
         "name": "is_central_locking",
         "rawType": "object",
         "type": "string"
        },
        {
         "name": "is_power_steering",
         "rawType": "object",
         "type": "string"
        },
        {
         "name": "is_driver_seat_height_adjustable",
         "rawType": "object",
         "type": "string"
        },
        {
         "name": "is_day_night_rear_view_mirror",
         "rawType": "object",
         "type": "string"
        },
        {
         "name": "is_ecw",
         "rawType": "object",
         "type": "string"
        },
        {
         "name": "is_speed_alert",
         "rawType": "object",
         "type": "string"
        },
        {
         "name": "ncap_rating",
         "rawType": "int64",
         "type": "integer"
        },
        {
         "name": "is_claim",
         "rawType": "int64",
         "type": "integer"
        },
        {
         "name": "power_value",
         "rawType": "float64",
         "type": "float"
        },
        {
         "name": "power_rpm",
         "rawType": "float64",
         "type": "float"
        },
        {
         "name": "torque_value",
         "rawType": "float64",
         "type": "float"
        },
        {
         "name": "torque_rpm",
         "rawType": "float64",
         "type": "float"
        }
       ],
       "ref": "b0e3c08f-c7fd-4448-a1b5-15130f4b4e0f",
       "rows": [
        [
         "0",
         "0.515873589958172",
         "0.05",
         "0.644230769230769",
         "C1",
         "4990",
         "1",
         "A",
         "M1",
         "CNG",
         "F8D Petrol Engine",
         "2",
         "No",
         "No",
         "No",
         "Yes",
         "No",
         "Drum",
         "796",
         "3",
         "Manual",
         "5",
         "Power",
         "4.6",
         "3445",
         "1515",
         "1475",
         "1185",
         "No",
         "No",
         "No",
         "No",
         "No",
         "No",
         "No",
         "Yes",
         "No",
         "No",
         "No",
         "Yes",
         "0",
         "0",
         "40.36",
         "6000.0",
         "60.0",
         "3500.0"
        ],
        [
         "1",
         "0.672618513547733",
         "0.02",
         "0.375",
         "C2",
         "27003",
         "1",
         "A",
         "M1",
         "CNG",
         "F8D Petrol Engine",
         "2",
         "No",
         "No",
         "No",
         "Yes",
         "No",
         "Drum",
         "796",
         "3",
         "Manual",
         "5",
         "Power",
         "4.6",
         "3445",
         "1515",
         "1475",
         "1185",
         "No",
         "No",
         "No",
         "No",
         "No",
         "No",
         "No",
         "Yes",
         "No",
         "No",
         "No",
         "Yes",
         "0",
         "0",
         "40.36",
         "6000.0",
         "60.0",
         "3500.0"
        ],
        [
         "2",
         "0.841110255796233",
         "0.02",
         "0.384615384615385",
         "C3",
         "4076",
         "1",
         "A",
         "M1",
         "CNG",
         "F8D Petrol Engine",
         "2",
         "No",
         "No",
         "No",
         "Yes",
         "No",
         "Drum",
         "796",
         "3",
         "Manual",
         "5",
         "Power",
         "4.6",
         "3445",
         "1515",
         "1475",
         "1185",
         "No",
         "No",
         "No",
         "No",
         "No",
         "No",
         "No",
         "Yes",
         "No",
         "No",
         "No",
         "Yes",
         "0",
         "0",
         "40.36",
         "6000.0",
         "60.0",
         "3500.0"
        ],
        [
         "3",
         "0.900276558749967",
         "0.11",
         "0.432692307692308",
         "C4",
         "21622",
         "1",
         "C1",
         "M2",
         "Petrol",
         "1.2 L K12N Dualjet",
         "2",
         "Yes",
         "Yes",
         "No",
         "Yes",
         "Yes",
         "Drum",
         "1197",
         "4",
         "Automatic",
         "5",
         "Electric",
         "4.8",
         "3995",
         "1735",
         "1515",
         "1335",
         "Yes",
         "No",
         "No",
         "Yes",
         "Yes",
         "Yes",
         "Yes",
         "Yes",
         "Yes",
         "Yes",
         "Yes",
         "Yes",
         "2",
         "0",
         "88.5",
         "6000.0",
         "113.0",
         "4400.0"
        ],
        [
         "4",
         "0.596402813108729",
         "0.11",
         "0.634615384615385",
         "C5",
         "34738",
         "2",
         "A",
         "M3",
         "Petrol",
         "1.0 SCe",
         "2",
         "No",
         "No",
         "No",
         "No",
         "Yes",
         "Drum",
         "999",
         "3",
         "Automatic",
         "5",
         "Electric",
         "5.0",
         "3731",
         "1579",
         "1490",
         "1155",
         "No",
         "No",
         "No",
         "No",
         "No",
         "Yes",
         "Yes",
         "Yes",
         "No",
         "Yes",
         "Yes",
         "Yes",
         "2",
         "0",
         "67.06",
         "5500.0",
         "91.0",
         "4250.0"
        ]
       ],
       "shape": {
        "columns": 45,
        "rows": 5
       }
      },
      "text/html": [
       "<div>\n",
       "<style scoped>\n",
       "    .dataframe tbody tr th:only-of-type {\n",
       "        vertical-align: middle;\n",
       "    }\n",
       "\n",
       "    .dataframe tbody tr th {\n",
       "        vertical-align: top;\n",
       "    }\n",
       "\n",
       "    .dataframe thead th {\n",
       "        text-align: right;\n",
       "    }\n",
       "</style>\n",
       "<table border=\"1\" class=\"dataframe\">\n",
       "  <thead>\n",
       "    <tr style=\"text-align: right;\">\n",
       "      <th></th>\n",
       "      <th>policy_tenure</th>\n",
       "      <th>age_of_car</th>\n",
       "      <th>age_of_policyholder</th>\n",
       "      <th>area_cluster</th>\n",
       "      <th>population_density</th>\n",
       "      <th>make</th>\n",
       "      <th>segment</th>\n",
       "      <th>model</th>\n",
       "      <th>fuel_type</th>\n",
       "      <th>engine_type</th>\n",
       "      <th>...</th>\n",
       "      <th>is_driver_seat_height_adjustable</th>\n",
       "      <th>is_day_night_rear_view_mirror</th>\n",
       "      <th>is_ecw</th>\n",
       "      <th>is_speed_alert</th>\n",
       "      <th>ncap_rating</th>\n",
       "      <th>is_claim</th>\n",
       "      <th>power_value</th>\n",
       "      <th>power_rpm</th>\n",
       "      <th>torque_value</th>\n",
       "      <th>torque_rpm</th>\n",
       "    </tr>\n",
       "  </thead>\n",
       "  <tbody>\n",
       "    <tr>\n",
       "      <th>0</th>\n",
       "      <td>0.515874</td>\n",
       "      <td>0.05</td>\n",
       "      <td>0.644231</td>\n",
       "      <td>C1</td>\n",
       "      <td>4990</td>\n",
       "      <td>1</td>\n",
       "      <td>A</td>\n",
       "      <td>M1</td>\n",
       "      <td>CNG</td>\n",
       "      <td>F8D Petrol Engine</td>\n",
       "      <td>...</td>\n",
       "      <td>No</td>\n",
       "      <td>No</td>\n",
       "      <td>No</td>\n",
       "      <td>Yes</td>\n",
       "      <td>0</td>\n",
       "      <td>0</td>\n",
       "      <td>40.36</td>\n",
       "      <td>6000.0</td>\n",
       "      <td>60.0</td>\n",
       "      <td>3500.0</td>\n",
       "    </tr>\n",
       "    <tr>\n",
       "      <th>1</th>\n",
       "      <td>0.672619</td>\n",
       "      <td>0.02</td>\n",
       "      <td>0.375000</td>\n",
       "      <td>C2</td>\n",
       "      <td>27003</td>\n",
       "      <td>1</td>\n",
       "      <td>A</td>\n",
       "      <td>M1</td>\n",
       "      <td>CNG</td>\n",
       "      <td>F8D Petrol Engine</td>\n",
       "      <td>...</td>\n",
       "      <td>No</td>\n",
       "      <td>No</td>\n",
       "      <td>No</td>\n",
       "      <td>Yes</td>\n",
       "      <td>0</td>\n",
       "      <td>0</td>\n",
       "      <td>40.36</td>\n",
       "      <td>6000.0</td>\n",
       "      <td>60.0</td>\n",
       "      <td>3500.0</td>\n",
       "    </tr>\n",
       "    <tr>\n",
       "      <th>2</th>\n",
       "      <td>0.841110</td>\n",
       "      <td>0.02</td>\n",
       "      <td>0.384615</td>\n",
       "      <td>C3</td>\n",
       "      <td>4076</td>\n",
       "      <td>1</td>\n",
       "      <td>A</td>\n",
       "      <td>M1</td>\n",
       "      <td>CNG</td>\n",
       "      <td>F8D Petrol Engine</td>\n",
       "      <td>...</td>\n",
       "      <td>No</td>\n",
       "      <td>No</td>\n",
       "      <td>No</td>\n",
       "      <td>Yes</td>\n",
       "      <td>0</td>\n",
       "      <td>0</td>\n",
       "      <td>40.36</td>\n",
       "      <td>6000.0</td>\n",
       "      <td>60.0</td>\n",
       "      <td>3500.0</td>\n",
       "    </tr>\n",
       "    <tr>\n",
       "      <th>3</th>\n",
       "      <td>0.900277</td>\n",
       "      <td>0.11</td>\n",
       "      <td>0.432692</td>\n",
       "      <td>C4</td>\n",
       "      <td>21622</td>\n",
       "      <td>1</td>\n",
       "      <td>C1</td>\n",
       "      <td>M2</td>\n",
       "      <td>Petrol</td>\n",
       "      <td>1.2 L K12N Dualjet</td>\n",
       "      <td>...</td>\n",
       "      <td>Yes</td>\n",
       "      <td>Yes</td>\n",
       "      <td>Yes</td>\n",
       "      <td>Yes</td>\n",
       "      <td>2</td>\n",
       "      <td>0</td>\n",
       "      <td>88.50</td>\n",
       "      <td>6000.0</td>\n",
       "      <td>113.0</td>\n",
       "      <td>4400.0</td>\n",
       "    </tr>\n",
       "    <tr>\n",
       "      <th>4</th>\n",
       "      <td>0.596403</td>\n",
       "      <td>0.11</td>\n",
       "      <td>0.634615</td>\n",
       "      <td>C5</td>\n",
       "      <td>34738</td>\n",
       "      <td>2</td>\n",
       "      <td>A</td>\n",
       "      <td>M3</td>\n",
       "      <td>Petrol</td>\n",
       "      <td>1.0 SCe</td>\n",
       "      <td>...</td>\n",
       "      <td>No</td>\n",
       "      <td>Yes</td>\n",
       "      <td>Yes</td>\n",
       "      <td>Yes</td>\n",
       "      <td>2</td>\n",
       "      <td>0</td>\n",
       "      <td>67.06</td>\n",
       "      <td>5500.0</td>\n",
       "      <td>91.0</td>\n",
       "      <td>4250.0</td>\n",
       "    </tr>\n",
       "  </tbody>\n",
       "</table>\n",
       "<p>5 rows × 45 columns</p>\n",
       "</div>"
      ],
      "text/plain": [
       "   policy_tenure  age_of_car  age_of_policyholder area_cluster  \\\n",
       "0       0.515874        0.05             0.644231           C1   \n",
       "1       0.672619        0.02             0.375000           C2   \n",
       "2       0.841110        0.02             0.384615           C3   \n",
       "3       0.900277        0.11             0.432692           C4   \n",
       "4       0.596403        0.11             0.634615           C5   \n",
       "\n",
       "   population_density  make segment model fuel_type         engine_type  ...  \\\n",
       "0                4990     1       A    M1       CNG   F8D Petrol Engine  ...   \n",
       "1               27003     1       A    M1       CNG   F8D Petrol Engine  ...   \n",
       "2                4076     1       A    M1       CNG   F8D Petrol Engine  ...   \n",
       "3               21622     1      C1    M2    Petrol  1.2 L K12N Dualjet  ...   \n",
       "4               34738     2       A    M3    Petrol             1.0 SCe  ...   \n",
       "\n",
       "   is_driver_seat_height_adjustable is_day_night_rear_view_mirror is_ecw  \\\n",
       "0                                No                            No     No   \n",
       "1                                No                            No     No   \n",
       "2                                No                            No     No   \n",
       "3                               Yes                           Yes    Yes   \n",
       "4                                No                           Yes    Yes   \n",
       "\n",
       "  is_speed_alert ncap_rating is_claim power_value  power_rpm  torque_value  \\\n",
       "0            Yes           0        0       40.36     6000.0          60.0   \n",
       "1            Yes           0        0       40.36     6000.0          60.0   \n",
       "2            Yes           0        0       40.36     6000.0          60.0   \n",
       "3            Yes           2        0       88.50     6000.0         113.0   \n",
       "4            Yes           2        0       67.06     5500.0          91.0   \n",
       "\n",
       "  torque_rpm  \n",
       "0     3500.0  \n",
       "1     3500.0  \n",
       "2     3500.0  \n",
       "3     4400.0  \n",
       "4     4250.0  \n",
       "\n",
       "[5 rows x 45 columns]"
      ]
     },
     "execution_count": 44,
     "metadata": {},
     "output_type": "execute_result"
    }
   ],
   "source": [
    "import re\n",
    "\n",
    "def extract_power(power_str):\n",
    "    try:\n",
    "        text = str(power_str)  # Ensure it's a string\n",
    "        match = re.search(r'([\\d.]+)[a-zA-Z]+@(\\d+)', text)\n",
    "        if match:\n",
    "            value = float(match.group(1))\n",
    "            rpm = int(match.group(2))\n",
    "            return value, rpm\n",
    "    except:\n",
    "        pass\n",
    "    return None, None\n",
    "\n",
    "# Apply to the column and split into two new columns\n",
    "df[['power_value', 'power_rpm']] = df['max_power'].apply(lambda x: pd.Series(extract_power(x)))\n",
    "df[['torque_value', 'torque_rpm']] = df['max_torque'].apply(lambda x: pd.Series(extract_power(x)))\n",
    "df.drop(['max_power', 'max_torque'], axis=1, inplace=True)\n",
    "df.head()"
   ]
  },
  {
   "cell_type": "code",
   "execution_count": 45,
   "id": "299a150a",
   "metadata": {},
   "outputs": [],
   "source": [
    "encoder=LabelEncoder()\n",
    "for col in df.select_dtypes(include='object').columns:\n",
    "    df[col] = encoder.fit_transform(df[col])\n",
    "    "
   ]
  },
  {
   "cell_type": "code",
   "execution_count": 46,
   "id": "8ea59093",
   "metadata": {},
   "outputs": [
    {
     "data": {
      "application/vnd.microsoft.datawrangler.viewer.v0+json": {
       "columns": [
        {
         "name": "index",
         "rawType": "int64",
         "type": "integer"
        },
        {
         "name": "policy_tenure",
         "rawType": "float64",
         "type": "float"
        },
        {
         "name": "age_of_car",
         "rawType": "float64",
         "type": "float"
        },
        {
         "name": "age_of_policyholder",
         "rawType": "float64",
         "type": "float"
        },
        {
         "name": "area_cluster",
         "rawType": "int64",
         "type": "integer"
        },
        {
         "name": "population_density",
         "rawType": "int64",
         "type": "integer"
        },
        {
         "name": "make",
         "rawType": "int64",
         "type": "integer"
        },
        {
         "name": "segment",
         "rawType": "int64",
         "type": "integer"
        },
        {
         "name": "model",
         "rawType": "int64",
         "type": "integer"
        },
        {
         "name": "fuel_type",
         "rawType": "int64",
         "type": "integer"
        },
        {
         "name": "engine_type",
         "rawType": "int64",
         "type": "integer"
        },
        {
         "name": "airbags",
         "rawType": "int64",
         "type": "integer"
        },
        {
         "name": "is_esc",
         "rawType": "int64",
         "type": "integer"
        },
        {
         "name": "is_adjustable_steering",
         "rawType": "int64",
         "type": "integer"
        },
        {
         "name": "is_tpms",
         "rawType": "int64",
         "type": "integer"
        },
        {
         "name": "is_parking_sensors",
         "rawType": "int64",
         "type": "integer"
        },
        {
         "name": "is_parking_camera",
         "rawType": "int64",
         "type": "integer"
        },
        {
         "name": "rear_brakes_type",
         "rawType": "int64",
         "type": "integer"
        },
        {
         "name": "displacement",
         "rawType": "int64",
         "type": "integer"
        },
        {
         "name": "cylinder",
         "rawType": "int64",
         "type": "integer"
        },
        {
         "name": "transmission_type",
         "rawType": "int64",
         "type": "integer"
        },
        {
         "name": "gear_box",
         "rawType": "int64",
         "type": "integer"
        },
        {
         "name": "steering_type",
         "rawType": "int64",
         "type": "integer"
        },
        {
         "name": "turning_radius",
         "rawType": "float64",
         "type": "float"
        },
        {
         "name": "length",
         "rawType": "int64",
         "type": "integer"
        },
        {
         "name": "width",
         "rawType": "int64",
         "type": "integer"
        },
        {
         "name": "height",
         "rawType": "int64",
         "type": "integer"
        },
        {
         "name": "gross_weight",
         "rawType": "int64",
         "type": "integer"
        },
        {
         "name": "is_front_fog_lights",
         "rawType": "int64",
         "type": "integer"
        },
        {
         "name": "is_rear_window_wiper",
         "rawType": "int64",
         "type": "integer"
        },
        {
         "name": "is_rear_window_washer",
         "rawType": "int64",
         "type": "integer"
        },
        {
         "name": "is_rear_window_defogger",
         "rawType": "int64",
         "type": "integer"
        },
        {
         "name": "is_brake_assist",
         "rawType": "int64",
         "type": "integer"
        },
        {
         "name": "is_power_door_locks",
         "rawType": "int64",
         "type": "integer"
        },
        {
         "name": "is_central_locking",
         "rawType": "int64",
         "type": "integer"
        },
        {
         "name": "is_power_steering",
         "rawType": "int64",
         "type": "integer"
        },
        {
         "name": "is_driver_seat_height_adjustable",
         "rawType": "int64",
         "type": "integer"
        },
        {
         "name": "is_day_night_rear_view_mirror",
         "rawType": "int64",
         "type": "integer"
        },
        {
         "name": "is_ecw",
         "rawType": "int64",
         "type": "integer"
        },
        {
         "name": "is_speed_alert",
         "rawType": "int64",
         "type": "integer"
        },
        {
         "name": "ncap_rating",
         "rawType": "int64",
         "type": "integer"
        },
        {
         "name": "is_claim",
         "rawType": "int64",
         "type": "integer"
        },
        {
         "name": "power_value",
         "rawType": "float64",
         "type": "float"
        },
        {
         "name": "power_rpm",
         "rawType": "float64",
         "type": "float"
        },
        {
         "name": "torque_value",
         "rawType": "float64",
         "type": "float"
        },
        {
         "name": "torque_rpm",
         "rawType": "float64",
         "type": "float"
        }
       ],
       "ref": "273d45f0-11ad-4c85-80a6-4d344bca1759",
       "rows": [
        [
         "0",
         "0.515873589958172",
         "0.05",
         "0.644230769230769",
         "0",
         "4990",
         "1",
         "0",
         "0",
         "0",
         "6",
         "2",
         "0",
         "0",
         "0",
         "1",
         "0",
         "1",
         "796",
         "3",
         "1",
         "5",
         "2",
         "4.6",
         "3445",
         "1515",
         "1475",
         "1185",
         "0",
         "0",
         "0",
         "0",
         "0",
         "0",
         "0",
         "1",
         "0",
         "0",
         "0",
         "1",
         "0",
         "0",
         "40.36",
         "6000.0",
         "60.0",
         "3500.0"
        ],
        [
         "1",
         "0.672618513547733",
         "0.02",
         "0.375",
         "11",
         "27003",
         "1",
         "0",
         "0",
         "0",
         "6",
         "2",
         "0",
         "0",
         "0",
         "1",
         "0",
         "1",
         "796",
         "3",
         "1",
         "5",
         "2",
         "4.6",
         "3445",
         "1515",
         "1475",
         "1185",
         "0",
         "0",
         "0",
         "0",
         "0",
         "0",
         "0",
         "1",
         "0",
         "0",
         "0",
         "1",
         "0",
         "0",
         "40.36",
         "6000.0",
         "60.0",
         "3500.0"
        ],
        [
         "2",
         "0.841110255796233",
         "0.02",
         "0.384615384615385",
         "15",
         "4076",
         "1",
         "0",
         "0",
         "0",
         "6",
         "2",
         "0",
         "0",
         "0",
         "1",
         "0",
         "1",
         "796",
         "3",
         "1",
         "5",
         "2",
         "4.6",
         "3445",
         "1515",
         "1475",
         "1185",
         "0",
         "0",
         "0",
         "0",
         "0",
         "0",
         "0",
         "1",
         "0",
         "0",
         "0",
         "1",
         "0",
         "0",
         "40.36",
         "6000.0",
         "60.0",
         "3500.0"
        ],
        [
         "3",
         "0.900276558749967",
         "0.11",
         "0.432692307692308",
         "16",
         "21622",
         "1",
         "3",
         "3",
         "2",
         "2",
         "2",
         "1",
         "1",
         "0",
         "1",
         "1",
         "1",
         "1197",
         "4",
         "0",
         "5",
         "0",
         "4.8",
         "3995",
         "1735",
         "1515",
         "1335",
         "1",
         "0",
         "0",
         "1",
         "1",
         "1",
         "1",
         "1",
         "1",
         "1",
         "1",
         "1",
         "2",
         "0",
         "88.5",
         "6000.0",
         "113.0",
         "4400.0"
        ],
        [
         "4",
         "0.596402813108729",
         "0.11",
         "0.634615384615385",
         "17",
         "34738",
         "2",
         "0",
         "4",
         "2",
         "0",
         "2",
         "0",
         "0",
         "0",
         "0",
         "1",
         "1",
         "999",
         "3",
         "0",
         "5",
         "0",
         "5.0",
         "3731",
         "1579",
         "1490",
         "1155",
         "0",
         "0",
         "0",
         "0",
         "0",
         "1",
         "1",
         "1",
         "0",
         "1",
         "1",
         "1",
         "2",
         "0",
         "67.06",
         "5500.0",
         "91.0",
         "4250.0"
        ]
       ],
       "shape": {
        "columns": 45,
        "rows": 5
       }
      },
      "text/html": [
       "<div>\n",
       "<style scoped>\n",
       "    .dataframe tbody tr th:only-of-type {\n",
       "        vertical-align: middle;\n",
       "    }\n",
       "\n",
       "    .dataframe tbody tr th {\n",
       "        vertical-align: top;\n",
       "    }\n",
       "\n",
       "    .dataframe thead th {\n",
       "        text-align: right;\n",
       "    }\n",
       "</style>\n",
       "<table border=\"1\" class=\"dataframe\">\n",
       "  <thead>\n",
       "    <tr style=\"text-align: right;\">\n",
       "      <th></th>\n",
       "      <th>policy_tenure</th>\n",
       "      <th>age_of_car</th>\n",
       "      <th>age_of_policyholder</th>\n",
       "      <th>area_cluster</th>\n",
       "      <th>population_density</th>\n",
       "      <th>make</th>\n",
       "      <th>segment</th>\n",
       "      <th>model</th>\n",
       "      <th>fuel_type</th>\n",
       "      <th>engine_type</th>\n",
       "      <th>...</th>\n",
       "      <th>is_driver_seat_height_adjustable</th>\n",
       "      <th>is_day_night_rear_view_mirror</th>\n",
       "      <th>is_ecw</th>\n",
       "      <th>is_speed_alert</th>\n",
       "      <th>ncap_rating</th>\n",
       "      <th>is_claim</th>\n",
       "      <th>power_value</th>\n",
       "      <th>power_rpm</th>\n",
       "      <th>torque_value</th>\n",
       "      <th>torque_rpm</th>\n",
       "    </tr>\n",
       "  </thead>\n",
       "  <tbody>\n",
       "    <tr>\n",
       "      <th>0</th>\n",
       "      <td>0.515874</td>\n",
       "      <td>0.05</td>\n",
       "      <td>0.644231</td>\n",
       "      <td>0</td>\n",
       "      <td>4990</td>\n",
       "      <td>1</td>\n",
       "      <td>0</td>\n",
       "      <td>0</td>\n",
       "      <td>0</td>\n",
       "      <td>6</td>\n",
       "      <td>...</td>\n",
       "      <td>0</td>\n",
       "      <td>0</td>\n",
       "      <td>0</td>\n",
       "      <td>1</td>\n",
       "      <td>0</td>\n",
       "      <td>0</td>\n",
       "      <td>40.36</td>\n",
       "      <td>6000.0</td>\n",
       "      <td>60.0</td>\n",
       "      <td>3500.0</td>\n",
       "    </tr>\n",
       "    <tr>\n",
       "      <th>1</th>\n",
       "      <td>0.672619</td>\n",
       "      <td>0.02</td>\n",
       "      <td>0.375000</td>\n",
       "      <td>11</td>\n",
       "      <td>27003</td>\n",
       "      <td>1</td>\n",
       "      <td>0</td>\n",
       "      <td>0</td>\n",
       "      <td>0</td>\n",
       "      <td>6</td>\n",
       "      <td>...</td>\n",
       "      <td>0</td>\n",
       "      <td>0</td>\n",
       "      <td>0</td>\n",
       "      <td>1</td>\n",
       "      <td>0</td>\n",
       "      <td>0</td>\n",
       "      <td>40.36</td>\n",
       "      <td>6000.0</td>\n",
       "      <td>60.0</td>\n",
       "      <td>3500.0</td>\n",
       "    </tr>\n",
       "    <tr>\n",
       "      <th>2</th>\n",
       "      <td>0.841110</td>\n",
       "      <td>0.02</td>\n",
       "      <td>0.384615</td>\n",
       "      <td>15</td>\n",
       "      <td>4076</td>\n",
       "      <td>1</td>\n",
       "      <td>0</td>\n",
       "      <td>0</td>\n",
       "      <td>0</td>\n",
       "      <td>6</td>\n",
       "      <td>...</td>\n",
       "      <td>0</td>\n",
       "      <td>0</td>\n",
       "      <td>0</td>\n",
       "      <td>1</td>\n",
       "      <td>0</td>\n",
       "      <td>0</td>\n",
       "      <td>40.36</td>\n",
       "      <td>6000.0</td>\n",
       "      <td>60.0</td>\n",
       "      <td>3500.0</td>\n",
       "    </tr>\n",
       "    <tr>\n",
       "      <th>3</th>\n",
       "      <td>0.900277</td>\n",
       "      <td>0.11</td>\n",
       "      <td>0.432692</td>\n",
       "      <td>16</td>\n",
       "      <td>21622</td>\n",
       "      <td>1</td>\n",
       "      <td>3</td>\n",
       "      <td>3</td>\n",
       "      <td>2</td>\n",
       "      <td>2</td>\n",
       "      <td>...</td>\n",
       "      <td>1</td>\n",
       "      <td>1</td>\n",
       "      <td>1</td>\n",
       "      <td>1</td>\n",
       "      <td>2</td>\n",
       "      <td>0</td>\n",
       "      <td>88.50</td>\n",
       "      <td>6000.0</td>\n",
       "      <td>113.0</td>\n",
       "      <td>4400.0</td>\n",
       "    </tr>\n",
       "    <tr>\n",
       "      <th>4</th>\n",
       "      <td>0.596403</td>\n",
       "      <td>0.11</td>\n",
       "      <td>0.634615</td>\n",
       "      <td>17</td>\n",
       "      <td>34738</td>\n",
       "      <td>2</td>\n",
       "      <td>0</td>\n",
       "      <td>4</td>\n",
       "      <td>2</td>\n",
       "      <td>0</td>\n",
       "      <td>...</td>\n",
       "      <td>0</td>\n",
       "      <td>1</td>\n",
       "      <td>1</td>\n",
       "      <td>1</td>\n",
       "      <td>2</td>\n",
       "      <td>0</td>\n",
       "      <td>67.06</td>\n",
       "      <td>5500.0</td>\n",
       "      <td>91.0</td>\n",
       "      <td>4250.0</td>\n",
       "    </tr>\n",
       "  </tbody>\n",
       "</table>\n",
       "<p>5 rows × 45 columns</p>\n",
       "</div>"
      ],
      "text/plain": [
       "   policy_tenure  age_of_car  age_of_policyholder  area_cluster  \\\n",
       "0       0.515874        0.05             0.644231             0   \n",
       "1       0.672619        0.02             0.375000            11   \n",
       "2       0.841110        0.02             0.384615            15   \n",
       "3       0.900277        0.11             0.432692            16   \n",
       "4       0.596403        0.11             0.634615            17   \n",
       "\n",
       "   population_density  make  segment  model  fuel_type  engine_type  ...  \\\n",
       "0                4990     1        0      0          0            6  ...   \n",
       "1               27003     1        0      0          0            6  ...   \n",
       "2                4076     1        0      0          0            6  ...   \n",
       "3               21622     1        3      3          2            2  ...   \n",
       "4               34738     2        0      4          2            0  ...   \n",
       "\n",
       "   is_driver_seat_height_adjustable  is_day_night_rear_view_mirror  is_ecw  \\\n",
       "0                                 0                              0       0   \n",
       "1                                 0                              0       0   \n",
       "2                                 0                              0       0   \n",
       "3                                 1                              1       1   \n",
       "4                                 0                              1       1   \n",
       "\n",
       "   is_speed_alert  ncap_rating  is_claim  power_value  power_rpm  \\\n",
       "0               1            0         0        40.36     6000.0   \n",
       "1               1            0         0        40.36     6000.0   \n",
       "2               1            0         0        40.36     6000.0   \n",
       "3               1            2         0        88.50     6000.0   \n",
       "4               1            2         0        67.06     5500.0   \n",
       "\n",
       "   torque_value  torque_rpm  \n",
       "0          60.0      3500.0  \n",
       "1          60.0      3500.0  \n",
       "2          60.0      3500.0  \n",
       "3         113.0      4400.0  \n",
       "4          91.0      4250.0  \n",
       "\n",
       "[5 rows x 45 columns]"
      ]
     },
     "execution_count": 46,
     "metadata": {},
     "output_type": "execute_result"
    }
   ],
   "source": [
    "df.head()"
   ]
  },
  {
   "cell_type": "code",
   "execution_count": 47,
   "id": "47fde225",
   "metadata": {},
   "outputs": [],
   "source": [
    "features=df.drop('is_claim', axis=1)\n",
    "target=df['is_claim']"
   ]
  },
  {
   "cell_type": "code",
   "execution_count": 48,
   "id": "5a734ee9",
   "metadata": {},
   "outputs": [],
   "source": [
    "x_train, x_test, y_train, y_test = train_test_split(features, target, test_size=0.2, random_state=42)\n",
    "scaler = StandardScaler()\n",
    "x_train = scaler.fit_transform(x_train)\n",
    "x_test = scaler.transform(x_test)"
   ]
  },
  {
   "cell_type": "code",
   "execution_count": 49,
   "id": "cbb1182b",
   "metadata": {},
   "outputs": [],
   "source": [
    "from sklearn.tree import DecisionTreeClassifier"
   ]
  },
  {
   "cell_type": "code",
   "execution_count": 51,
   "id": "c5c4b931",
   "metadata": {},
   "outputs": [
    {
     "name": "stdout",
     "output_type": "stream",
     "text": [
      "\n",
      " KNN Best Params: {'knn__metric': 'euclidean', 'knn__n_neighbors': 9, 'knn__weights': 'uniform'}\n",
      " KNN Test Accuracy: 0.9352333816878573\n",
      " KNN CV Mean Score: 0.9359759311571013\n",
      "\n",
      " Naive Bayes Best Params: {'nb__var_smoothing': 1e-09}\n",
      " Naive Bayes Test Accuracy: 0.9354893762266405\n",
      " Naive Bayes CV Mean Score: 0.9361679448118911\n",
      "\n",
      " Decision Tree Best Params: {'dt__criterion': 'gini', 'dt__max_depth': 3, 'dt__min_samples_split': 2}\n",
      " Decision Tree Test Accuracy: 0.9354893762266405\n",
      " Decision Tree CV Mean Score: 0.9361679448118911\n"
     ]
    }
   ],
   "source": [
    "from sklearn.neighbors import KNeighborsClassifier\n",
    "from sklearn.naive_bayes import GaussianNB\n",
    "from sklearn.pipeline import Pipeline\n",
    "from sklearn.model_selection import GridSearchCV\n",
    "\n",
    "\n",
    "knn_pipeline = Pipeline([\n",
    "    ('scaled_array', StandardScaler()),\n",
    "    ('knn', KNeighborsClassifier())\n",
    "])\n",
    "knn_params = {\n",
    "    'knn__n_neighbors': [3, 5, 7, 9],\n",
    "    'knn__weights': ['uniform', 'distance'],\n",
    "    'knn__metric': ['euclidean', 'manhattan']\n",
    "}\n",
    "knn_grid = GridSearchCV(knn_pipeline, knn_params, cv=5)\n",
    "knn_grid.fit(x_train, y_train)\n",
    "\n",
    "print(\"\\n KNN Best Params:\", knn_grid.best_params_)\n",
    "print(\" KNN Test Accuracy:\", knn_grid.score(x_test, y_test))\n",
    "print(\" KNN CV Mean Score:\", knn_grid.best_score_)\n",
    "\n",
    "nb_pipeline = Pipeline([\n",
    "    ('scaled_array', StandardScaler()),\n",
    "    ('nb', GaussianNB())\n",
    "])\n",
    "nb_params = {\n",
    "    'nb__var_smoothing': [1e-9, 1e-8, 1e-7]\n",
    "}\n",
    "nb_grid = GridSearchCV(nb_pipeline, nb_params, cv=5)\n",
    "nb_grid.fit(x_train, y_train)\n",
    "\n",
    "print(\"\\n Naive Bayes Best Params:\", nb_grid.best_params_)\n",
    "print(\" Naive Bayes Test Accuracy:\", nb_grid.score(x_test, y_test))\n",
    "print(\" Naive Bayes CV Mean Score:\", nb_grid.best_score_)\n",
    "\n",
    "dt_pipeline = Pipeline([\n",
    "    ('scaled_array', StandardScaler()),\n",
    "    ('dt', DecisionTreeClassifier(random_state=42))\n",
    "])\n",
    "dt_params = {\n",
    "    'dt__criterion': ['gini', 'entropy'],\n",
    "    'dt__max_depth': [3, 5, 10, None],\n",
    "    'dt__min_samples_split': [2, 5, 10]\n",
    "}\n",
    "dt_grid = GridSearchCV(dt_pipeline, dt_params, cv=5)\n",
    "dt_grid.fit(x_train, y_train)\n",
    "\n",
    "print(\"\\n Decision Tree Best Params:\", dt_grid.best_params_)\n",
    "print(\" Decision Tree Test Accuracy:\", dt_grid.score(x_test, y_test))\n",
    "print(\" Decision Tree CV Mean Score:\", dt_grid.best_score_)"
   ]
  },
  {
   "cell_type": "code",
   "execution_count": null,
   "id": "8d3c61c0",
   "metadata": {},
   "outputs": [],
   "source": []
  }
 ],
 "metadata": {
  "kernelspec": {
   "display_name": "Python 3",
   "language": "python",
   "name": "python3"
  },
  "language_info": {
   "codemirror_mode": {
    "name": "ipython",
    "version": 3
   },
   "file_extension": ".py",
   "mimetype": "text/x-python",
   "name": "python",
   "nbconvert_exporter": "python",
   "pygments_lexer": "ipython3",
   "version": "3.13.2"
  }
 },
 "nbformat": 4,
 "nbformat_minor": 5
}
