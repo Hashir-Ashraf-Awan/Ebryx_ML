{
 "cells": [
  {
   "cell_type": "code",
   "execution_count": 57,
   "id": "7f52184f",
   "metadata": {},
   "outputs": [],
   "source": [
    "import numpy as np\n",
    "import pandas as pd\n",
    "from sklearn.linear_model import LinearRegression,LogisticRegression\n",
    "from sklearn.model_selection import train_test_split\n",
    "from sklearn.metrics import accuracy_score, confusion_matrix, classification_report\n",
    "from sklearn.preprocessing import StandardScaler, LabelEncoder\n",
    "from sklearn.tree import DecisionTreeClassifier\n",
    "import matplotlib.pyplot as plt\n",
    "import seaborn as sns\n",
    "from sklearn.naive_bayes import GaussianNB\n",
    "from sklearn.neighbors import KNeighborsClassifier\n",
    "from sklearn.pipeline import Pipeline\n",
    "from sklearn.compose import ColumnTransformer\n",
    "from sklearn.impute import SimpleImputer\n",
    "from sklearn.preprocessing import OneHotEncoder\n",
    "from sklearn.model_selection import cross_val_predict\n",
    "from sklearn.metrics import classification_report\n",
    "from sklearn.model_selection import cross_val_score\n",
    "import joblib\n",
    "from sklearn.cluster import KMeans\n",
    "from sklearn.decomposition import PCA\n",
    "from sklearn.metrics import silhouette_score\n"
   ]
  },
  {
   "cell_type": "code",
   "execution_count": 58,
   "id": "6ff56e6a",
   "metadata": {},
   "outputs": [
    {
     "data": {
      "application/vnd.microsoft.datawrangler.viewer.v0+json": {
       "columns": [
        {
         "name": "index",
         "rawType": "int64",
         "type": "integer"
        },
        {
         "name": "CustomerID",
         "rawType": "int64",
         "type": "integer"
        },
        {
         "name": "Genre",
         "rawType": "object",
         "type": "string"
        },
        {
         "name": "Age",
         "rawType": "int64",
         "type": "integer"
        },
        {
         "name": "Annual Income (k$)",
         "rawType": "int64",
         "type": "integer"
        },
        {
         "name": "Spending Score (1-100)",
         "rawType": "int64",
         "type": "integer"
        }
       ],
       "ref": "2ac88bfa-14e3-4313-a3a6-18b809b6f1f2",
       "rows": [
        [
         "0",
         "1",
         "Male",
         "19",
         "15",
         "39"
        ],
        [
         "1",
         "2",
         "Male",
         "21",
         "15",
         "81"
        ],
        [
         "2",
         "3",
         "Female",
         "20",
         "16",
         "6"
        ],
        [
         "3",
         "4",
         "Female",
         "23",
         "16",
         "77"
        ],
        [
         "4",
         "5",
         "Female",
         "31",
         "17",
         "40"
        ]
       ],
       "shape": {
        "columns": 5,
        "rows": 5
       }
      },
      "text/html": [
       "<div>\n",
       "<style scoped>\n",
       "    .dataframe tbody tr th:only-of-type {\n",
       "        vertical-align: middle;\n",
       "    }\n",
       "\n",
       "    .dataframe tbody tr th {\n",
       "        vertical-align: top;\n",
       "    }\n",
       "\n",
       "    .dataframe thead th {\n",
       "        text-align: right;\n",
       "    }\n",
       "</style>\n",
       "<table border=\"1\" class=\"dataframe\">\n",
       "  <thead>\n",
       "    <tr style=\"text-align: right;\">\n",
       "      <th></th>\n",
       "      <th>CustomerID</th>\n",
       "      <th>Genre</th>\n",
       "      <th>Age</th>\n",
       "      <th>Annual Income (k$)</th>\n",
       "      <th>Spending Score (1-100)</th>\n",
       "    </tr>\n",
       "  </thead>\n",
       "  <tbody>\n",
       "    <tr>\n",
       "      <th>0</th>\n",
       "      <td>1</td>\n",
       "      <td>Male</td>\n",
       "      <td>19</td>\n",
       "      <td>15</td>\n",
       "      <td>39</td>\n",
       "    </tr>\n",
       "    <tr>\n",
       "      <th>1</th>\n",
       "      <td>2</td>\n",
       "      <td>Male</td>\n",
       "      <td>21</td>\n",
       "      <td>15</td>\n",
       "      <td>81</td>\n",
       "    </tr>\n",
       "    <tr>\n",
       "      <th>2</th>\n",
       "      <td>3</td>\n",
       "      <td>Female</td>\n",
       "      <td>20</td>\n",
       "      <td>16</td>\n",
       "      <td>6</td>\n",
       "    </tr>\n",
       "    <tr>\n",
       "      <th>3</th>\n",
       "      <td>4</td>\n",
       "      <td>Female</td>\n",
       "      <td>23</td>\n",
       "      <td>16</td>\n",
       "      <td>77</td>\n",
       "    </tr>\n",
       "    <tr>\n",
       "      <th>4</th>\n",
       "      <td>5</td>\n",
       "      <td>Female</td>\n",
       "      <td>31</td>\n",
       "      <td>17</td>\n",
       "      <td>40</td>\n",
       "    </tr>\n",
       "  </tbody>\n",
       "</table>\n",
       "</div>"
      ],
      "text/plain": [
       "   CustomerID   Genre  Age  Annual Income (k$)  Spending Score (1-100)\n",
       "0           1    Male   19                  15                      39\n",
       "1           2    Male   21                  15                      81\n",
       "2           3  Female   20                  16                       6\n",
       "3           4  Female   23                  16                      77\n",
       "4           5  Female   31                  17                      40"
      ]
     },
     "execution_count": 58,
     "metadata": {},
     "output_type": "execute_result"
    }
   ],
   "source": [
    "df=pd.read_csv('Mall_Customers.csv')\n",
    "df.head()"
   ]
  },
  {
   "cell_type": "code",
   "execution_count": 59,
   "id": "d3e9b7ae",
   "metadata": {},
   "outputs": [],
   "source": [
    "df.drop(['CustomerID'], axis=1, inplace=True)"
   ]
  },
  {
   "cell_type": "code",
   "execution_count": 60,
   "id": "1d3c2f87",
   "metadata": {},
   "outputs": [
    {
     "data": {
      "application/vnd.microsoft.datawrangler.viewer.v0+json": {
       "columns": [
        {
         "name": "index",
         "rawType": "object",
         "type": "string"
        },
        {
         "name": "0",
         "rawType": "int64",
         "type": "integer"
        }
       ],
       "ref": "905a3ac0-2cbe-4ff3-9089-bba080597ecc",
       "rows": [
        [
         "Genre",
         "0"
        ],
        [
         "Age",
         "0"
        ],
        [
         "Annual Income (k$)",
         "0"
        ],
        [
         "Spending Score (1-100)",
         "0"
        ]
       ],
       "shape": {
        "columns": 1,
        "rows": 4
       }
      },
      "text/plain": [
       "Genre                     0\n",
       "Age                       0\n",
       "Annual Income (k$)        0\n",
       "Spending Score (1-100)    0\n",
       "dtype: int64"
      ]
     },
     "execution_count": 60,
     "metadata": {},
     "output_type": "execute_result"
    }
   ],
   "source": [
    "df.isna().sum()"
   ]
  },
  {
   "cell_type": "code",
   "execution_count": 61,
   "id": "eab5ffe2",
   "metadata": {},
   "outputs": [
    {
     "data": {
      "text/plain": [
       "np.int64(0)"
      ]
     },
     "execution_count": 61,
     "metadata": {},
     "output_type": "execute_result"
    }
   ],
   "source": [
    "df.duplicated().sum()"
   ]
  },
  {
   "cell_type": "code",
   "execution_count": 62,
   "id": "d3270744",
   "metadata": {},
   "outputs": [],
   "source": [
    "encoder=LabelEncoder()\n",
    "df['Genre'] = encoder.fit_transform(df['Genre'])"
   ]
  },
  {
   "cell_type": "code",
   "execution_count": 63,
   "id": "149fdc9e",
   "metadata": {},
   "outputs": [],
   "source": [
    "scaler=StandardScaler()\n",
    "df_scaled = scaler.fit_transform(df.select_dtypes(include=['float64', 'int64']))           \n",
    "df_scaled = pd.DataFrame(df, columns=df.select_dtypes(include=['float64', 'int64']).columns)"
   ]
  },
  {
   "cell_type": "code",
   "execution_count": 64,
   "id": "25784208",
   "metadata": {},
   "outputs": [
    {
     "data": {
      "application/vnd.microsoft.datawrangler.viewer.v0+json": {
       "columns": [
        {
         "name": "index",
         "rawType": "object",
         "type": "string"
        },
        {
         "name": "Genre",
         "rawType": "float64",
         "type": "float"
        },
        {
         "name": "Age",
         "rawType": "float64",
         "type": "float"
        },
        {
         "name": "Annual Income (k$)",
         "rawType": "float64",
         "type": "float"
        },
        {
         "name": "Spending Score (1-100)",
         "rawType": "float64",
         "type": "float"
        }
       ],
       "ref": "487d5aa9-722b-4a40-aaef-92cc00100eaf",
       "rows": [
        [
         "count",
         "200.0",
         "200.0",
         "200.0",
         "200.0"
        ],
        [
         "mean",
         "0.44",
         "38.85",
         "60.56",
         "50.2"
        ],
        [
         "std",
         "0.49763258630718094",
         "13.96900733155888",
         "26.264721165271244",
         "25.823521668370173"
        ],
        [
         "min",
         "0.0",
         "18.0",
         "15.0",
         "1.0"
        ],
        [
         "25%",
         "0.0",
         "28.75",
         "41.5",
         "34.75"
        ],
        [
         "50%",
         "0.0",
         "36.0",
         "61.5",
         "50.0"
        ],
        [
         "75%",
         "1.0",
         "49.0",
         "78.0",
         "73.0"
        ],
        [
         "max",
         "1.0",
         "70.0",
         "137.0",
         "99.0"
        ]
       ],
       "shape": {
        "columns": 4,
        "rows": 8
       }
      },
      "text/html": [
       "<div>\n",
       "<style scoped>\n",
       "    .dataframe tbody tr th:only-of-type {\n",
       "        vertical-align: middle;\n",
       "    }\n",
       "\n",
       "    .dataframe tbody tr th {\n",
       "        vertical-align: top;\n",
       "    }\n",
       "\n",
       "    .dataframe thead th {\n",
       "        text-align: right;\n",
       "    }\n",
       "</style>\n",
       "<table border=\"1\" class=\"dataframe\">\n",
       "  <thead>\n",
       "    <tr style=\"text-align: right;\">\n",
       "      <th></th>\n",
       "      <th>Genre</th>\n",
       "      <th>Age</th>\n",
       "      <th>Annual Income (k$)</th>\n",
       "      <th>Spending Score (1-100)</th>\n",
       "    </tr>\n",
       "  </thead>\n",
       "  <tbody>\n",
       "    <tr>\n",
       "      <th>count</th>\n",
       "      <td>200.000000</td>\n",
       "      <td>200.000000</td>\n",
       "      <td>200.000000</td>\n",
       "      <td>200.000000</td>\n",
       "    </tr>\n",
       "    <tr>\n",
       "      <th>mean</th>\n",
       "      <td>0.440000</td>\n",
       "      <td>38.850000</td>\n",
       "      <td>60.560000</td>\n",
       "      <td>50.200000</td>\n",
       "    </tr>\n",
       "    <tr>\n",
       "      <th>std</th>\n",
       "      <td>0.497633</td>\n",
       "      <td>13.969007</td>\n",
       "      <td>26.264721</td>\n",
       "      <td>25.823522</td>\n",
       "    </tr>\n",
       "    <tr>\n",
       "      <th>min</th>\n",
       "      <td>0.000000</td>\n",
       "      <td>18.000000</td>\n",
       "      <td>15.000000</td>\n",
       "      <td>1.000000</td>\n",
       "    </tr>\n",
       "    <tr>\n",
       "      <th>25%</th>\n",
       "      <td>0.000000</td>\n",
       "      <td>28.750000</td>\n",
       "      <td>41.500000</td>\n",
       "      <td>34.750000</td>\n",
       "    </tr>\n",
       "    <tr>\n",
       "      <th>50%</th>\n",
       "      <td>0.000000</td>\n",
       "      <td>36.000000</td>\n",
       "      <td>61.500000</td>\n",
       "      <td>50.000000</td>\n",
       "    </tr>\n",
       "    <tr>\n",
       "      <th>75%</th>\n",
       "      <td>1.000000</td>\n",
       "      <td>49.000000</td>\n",
       "      <td>78.000000</td>\n",
       "      <td>73.000000</td>\n",
       "    </tr>\n",
       "    <tr>\n",
       "      <th>max</th>\n",
       "      <td>1.000000</td>\n",
       "      <td>70.000000</td>\n",
       "      <td>137.000000</td>\n",
       "      <td>99.000000</td>\n",
       "    </tr>\n",
       "  </tbody>\n",
       "</table>\n",
       "</div>"
      ],
      "text/plain": [
       "            Genre         Age  Annual Income (k$)  Spending Score (1-100)\n",
       "count  200.000000  200.000000          200.000000              200.000000\n",
       "mean     0.440000   38.850000           60.560000               50.200000\n",
       "std      0.497633   13.969007           26.264721               25.823522\n",
       "min      0.000000   18.000000           15.000000                1.000000\n",
       "25%      0.000000   28.750000           41.500000               34.750000\n",
       "50%      0.000000   36.000000           61.500000               50.000000\n",
       "75%      1.000000   49.000000           78.000000               73.000000\n",
       "max      1.000000   70.000000          137.000000               99.000000"
      ]
     },
     "execution_count": 64,
     "metadata": {},
     "output_type": "execute_result"
    }
   ],
   "source": [
    "df.describe()"
   ]
  },
  {
   "cell_type": "code",
   "execution_count": 65,
   "id": "08d03c82",
   "metadata": {},
   "outputs": [],
   "source": [
    "upper_bound = {}\n",
    "lower_bound = {}\n",
    "\n",
    "for col in df.columns:\n",
    "    q1 = df[col].quantile(0.25)\n",
    "    q3 = df[col].quantile(0.75)\n",
    "    iqr = q3 - q1\n",
    "    upper_bound[col] = q3 + 1.5 * iqr\n",
    "    lower_bound[col] = q1 - 1.5 * iqr\n",
    "\n",
    "for col in df.columns:\n",
    "    df = df[(df[col] >= lower_bound[col]) & (df[col] <= upper_bound[col])]"
   ]
  },
  {
   "cell_type": "code",
   "execution_count": 66,
   "id": "f71df5a7",
   "metadata": {},
   "outputs": [],
   "source": [
    "model = KMeans(n_clusters=2, random_state=0, n_init=\"auto\").fit(df)\n"
   ]
  },
  {
   "cell_type": "code",
   "execution_count": 67,
   "id": "6ff383b3",
   "metadata": {},
   "outputs": [
    {
     "data": {
      "image/png": "[encoded data removed]",
      "text/plain": [
       "<Figure size 800x500 with 1 Axes>"
      ]
     },
     "metadata": {},
     "output_type": "display_data"
    }
   ],
   "source": [
    "plt.figure(figsize=(8, 5))\n",
    "plt.hist(df['Age'], bins=10, color='skyblue', edgecolor='black')\n",
    "plt.title('Distribution of Age')\n",
    "plt.xlabel('Age')\n",
    "plt.ylabel('Frequency')\n",
    "plt.show()\n"
   ]
  },
  {
   "cell_type": "code",
   "execution_count": 68,
   "id": "8c9bff17",
   "metadata": {},
   "outputs": [
    {
     "data": {
      "image/png": "[encoded data removed]",
      "text/plain": [
       "<Figure size 800x500 with 1 Axes>"
      ]
     },
     "metadata": {},
     "output_type": "display_data"
    }
   ],
   "source": [
    "plt.figure(figsize=(8, 5))\n",
    "plt.hist(df['Spending Score (1-100)'], bins=10, color='salmon', edgecolor='black')\n",
    "plt.title('Distribution of Spending Score')\n",
    "plt.xlabel('Spending Score (1-100)')\n",
    "plt.ylabel('Frequency')\n",
    "plt.show()\n"
   ]
  },
  {
   "cell_type": "code",
   "execution_count": 69,
   "id": "ae4dda33",
   "metadata": {},
   "outputs": [
    {
     "data": {
      "application/vnd.microsoft.datawrangler.viewer.v0+json": {
       "columns": [
        {
         "name": "index",
         "rawType": "int64",
         "type": "integer"
        },
        {
         "name": "Genre",
         "rawType": "int64",
         "type": "integer"
        },
        {
         "name": "Age",
         "rawType": "int64",
         "type": "integer"
        },
        {
         "name": "Annual Income (k$)",
         "rawType": "int64",
         "type": "integer"
        },
        {
         "name": "Spending Score (1-100)",
         "rawType": "int64",
         "type": "integer"
        }
       ],
       "ref": "8acef64a-6110-4d1d-b5c1-d87bd3158a43",
       "rows": [
        [
         "0",
         "1",
         "19",
         "15",
         "39"
        ],
        [
         "1",
         "1",
         "21",
         "15",
         "81"
        ],
        [
         "2",
         "0",
         "20",
         "16",
         "6"
        ],
        [
         "3",
         "0",
         "23",
         "16",
         "77"
        ],
        [
         "4",
         "0",
         "31",
         "17",
         "40"
        ]
       ],
       "shape": {
        "columns": 4,
        "rows": 5
       }
      },
      "text/html": [
       "<div>\n",
       "<style scoped>\n",
       "    .dataframe tbody tr th:only-of-type {\n",
       "        vertical-align: middle;\n",
       "    }\n",
       "\n",
       "    .dataframe tbody tr th {\n",
       "        vertical-align: top;\n",
       "    }\n",
       "\n",
       "    .dataframe thead th {\n",
       "        text-align: right;\n",
       "    }\n",
       "</style>\n",
       "<table border=\"1\" class=\"dataframe\">\n",
       "  <thead>\n",
       "    <tr style=\"text-align: right;\">\n",
       "      <th></th>\n",
       "      <th>Genre</th>\n",
       "      <th>Age</th>\n",
       "      <th>Annual Income (k$)</th>\n",
       "      <th>Spending Score (1-100)</th>\n",
       "    </tr>\n",
       "  </thead>\n",
       "  <tbody>\n",
       "    <tr>\n",
       "      <th>0</th>\n",
       "      <td>1</td>\n",
       "      <td>19</td>\n",
       "      <td>15</td>\n",
       "      <td>39</td>\n",
       "    </tr>\n",
       "    <tr>\n",
       "      <th>1</th>\n",
       "      <td>1</td>\n",
       "      <td>21</td>\n",
       "      <td>15</td>\n",
       "      <td>81</td>\n",
       "    </tr>\n",
       "    <tr>\n",
       "      <th>2</th>\n",
       "      <td>0</td>\n",
       "      <td>20</td>\n",
       "      <td>16</td>\n",
       "      <td>6</td>\n",
       "    </tr>\n",
       "    <tr>\n",
       "      <th>3</th>\n",
       "      <td>0</td>\n",
       "      <td>23</td>\n",
       "      <td>16</td>\n",
       "      <td>77</td>\n",
       "    </tr>\n",
       "    <tr>\n",
       "      <th>4</th>\n",
       "      <td>0</td>\n",
       "      <td>31</td>\n",
       "      <td>17</td>\n",
       "      <td>40</td>\n",
       "    </tr>\n",
       "  </tbody>\n",
       "</table>\n",
       "</div>"
      ],
      "text/plain": [
       "   Genre  Age  Annual Income (k$)  Spending Score (1-100)\n",
       "0      1   19                  15                      39\n",
       "1      1   21                  15                      81\n",
       "2      0   20                  16                       6\n",
       "3      0   23                  16                      77\n",
       "4      0   31                  17                      40"
      ]
     },
     "execution_count": 69,
     "metadata": {},
     "output_type": "execute_result"
    }
   ],
   "source": [
    "df_scaled.head()"
   ]
  },
  {
   "cell_type": "code",
   "execution_count": 70,
   "id": "bc29b748",
   "metadata": {},
   "outputs": [],
   "source": [
    "pca = PCA(n_components=2, random_state=42)\n",
    "x = pca.fit_transform(df_scaled)"
   ]
  },
  {
   "cell_type": "code",
   "execution_count": 71,
   "id": "ee3ab262",
   "metadata": {},
   "outputs": [
    {
     "data": {
      "image/png": "[encoded data removed]",
      "text/plain": [
       "<Figure size 640x480 with 1 Axes>"
      ]
     },
     "metadata": {},
     "output_type": "display_data"
    }
   ],
   "source": [
    "WCSS = []\n",
    "for k in range(1, 11):\n",
    "    kmeans = KMeans(n_clusters=k, random_state=42)\n",
    "    kmeans.fit(x)\n",
    "    WCSS.append(kmeans.inertia_)\n",
    "\n",
    "plt.plot(range(1,11), WCSS, marker='o')\n",
    "plt.xlabel('k')\n",
    "plt.ylabel('wcss')\n",
    "plt.title('Elbow Method for Optimal k')\n",
    "plt.show()"
   ]
  },
  {
   "cell_type": "code",
   "execution_count": 72,
   "id": "45463e05",
   "metadata": {},
   "outputs": [],
   "source": [
    "model = KMeans(n_clusters=5, random_state=42)\n",
    "labels = model.fit_predict(x)\n"
   ]
  },
  {
   "cell_type": "code",
   "execution_count": 73,
   "id": "f8a19e70",
   "metadata": {},
   "outputs": [],
   "source": [
    "df_scaled['Cluster'] = labels\n"
   ]
  },
  {
   "cell_type": "code",
   "execution_count": 74,
   "id": "c2a459ba",
   "metadata": {},
   "outputs": [
    {
     "data": {
      "application/vnd.microsoft.datawrangler.viewer.v0+json": {
       "columns": [
        {
         "name": "index",
         "rawType": "int64",
         "type": "integer"
        },
        {
         "name": "Genre",
         "rawType": "int64",
         "type": "integer"
        },
        {
         "name": "Age",
         "rawType": "int64",
         "type": "integer"
        },
        {
         "name": "Annual Income (k$)",
         "rawType": "int64",
         "type": "integer"
        },
        {
         "name": "Spending Score (1-100)",
         "rawType": "int64",
         "type": "integer"
        },
        {
         "name": "Cluster",
         "rawType": "int32",
         "type": "integer"
        }
       ],
       "ref": "52506ac6-cbe1-4034-a91f-0e79740d9a67",
       "rows": [
        [
         "0",
         "1",
         "19",
         "15",
         "39",
         "4"
        ],
        [
         "1",
         "1",
         "21",
         "15",
         "81",
         "2"
        ],
        [
         "2",
         "0",
         "20",
         "16",
         "6",
         "4"
        ],
        [
         "3",
         "0",
         "23",
         "16",
         "77",
         "2"
        ],
        [
         "4",
         "0",
         "31",
         "17",
         "40",
         "4"
        ],
        [
         "5",
         "0",
         "22",
         "17",
         "76",
         "2"
        ],
        [
         "6",
         "0",
         "35",
         "18",
         "6",
         "4"
        ],
        [
         "7",
         "0",
         "23",
         "18",
         "94",
         "2"
        ],
        [
         "8",
         "1",
         "64",
         "19",
         "3",
         "4"
        ],
        [
         "9",
         "0",
         "30",
         "19",
         "72",
         "2"
        ],
        [
         "10",
         "1",
         "67",
         "19",
         "14",
         "4"
        ],
        [
         "11",
         "0",
         "35",
         "19",
         "99",
         "2"
        ],
        [
         "12",
         "0",
         "58",
         "20",
         "15",
         "4"
        ],
        [
         "13",
         "0",
         "24",
         "20",
         "77",
         "2"
        ],
        [
         "14",
         "1",
         "37",
         "20",
         "13",
         "4"
        ],
        [
         "15",
         "1",
         "22",
         "20",
         "79",
         "2"
        ],
        [
         "16",
         "0",
         "35",
         "21",
         "35",
         "4"
        ],
        [
         "17",
         "1",
         "20",
         "21",
         "66",
         "2"
        ],
        [
         "18",
         "1",
         "52",
         "23",
         "29",
         "4"
        ],
        [
         "19",
         "0",
         "35",
         "23",
         "98",
         "2"
        ],
        [
         "20",
         "1",
         "35",
         "24",
         "35",
         "4"
        ],
        [
         "21",
         "1",
         "25",
         "24",
         "73",
         "2"
        ],
        [
         "22",
         "0",
         "46",
         "25",
         "5",
         "4"
        ],
        [
         "23",
         "1",
         "31",
         "25",
         "73",
         "2"
        ],
        [
         "24",
         "0",
         "54",
         "28",
         "14",
         "4"
        ],
        [
         "25",
         "1",
         "29",
         "28",
         "82",
         "2"
        ],
        [
         "26",
         "0",
         "45",
         "28",
         "32",
         "4"
        ],
        [
         "27",
         "1",
         "35",
         "28",
         "61",
         "2"
        ],
        [
         "28",
         "0",
         "40",
         "29",
         "31",
         "4"
        ],
        [
         "29",
         "0",
         "23",
         "29",
         "87",
         "2"
        ],
        [
         "30",
         "1",
         "60",
         "30",
         "4",
         "4"
        ],
        [
         "31",
         "0",
         "21",
         "30",
         "73",
         "2"
        ],
        [
         "32",
         "1",
         "53",
         "33",
         "4",
         "4"
        ],
        [
         "33",
         "1",
         "18",
         "33",
         "92",
         "2"
        ],
        [
         "34",
         "0",
         "49",
         "33",
         "14",
         "4"
        ],
        [
         "35",
         "0",
         "21",
         "33",
         "81",
         "2"
        ],
        [
         "36",
         "0",
         "42",
         "34",
         "17",
         "4"
        ],
        [
         "37",
         "0",
         "30",
         "34",
         "73",
         "2"
        ],
        [
         "38",
         "0",
         "36",
         "37",
         "26",
         "4"
        ],
        [
         "39",
         "0",
         "20",
         "37",
         "75",
         "2"
        ],
        [
         "40",
         "0",
         "65",
         "38",
         "35",
         "4"
        ],
        [
         "41",
         "1",
         "24",
         "38",
         "92",
         "2"
        ],
        [
         "42",
         "1",
         "48",
         "39",
         "36",
         "4"
        ],
        [
         "43",
         "0",
         "31",
         "39",
         "61",
         "0"
        ],
        [
         "44",
         "0",
         "49",
         "39",
         "28",
         "4"
        ],
        [
         "45",
         "0",
         "24",
         "39",
         "65",
         "2"
        ],
        [
         "46",
         "0",
         "50",
         "40",
         "55",
         "0"
        ],
        [
         "47",
         "0",
         "27",
         "40",
         "47",
         "0"
        ],
        [
         "48",
         "0",
         "29",
         "40",
         "42",
         "0"
        ],
        [
         "49",
         "0",
         "31",
         "40",
         "42",
         "0"
        ]
       ],
       "shape": {
        "columns": 5,
        "rows": 200
       }
      },
      "text/html": [
       "<div>\n",
       "<style scoped>\n",
       "    .dataframe tbody tr th:only-of-type {\n",
       "        vertical-align: middle;\n",
       "    }\n",
       "\n",
       "    .dataframe tbody tr th {\n",
       "        vertical-align: top;\n",
       "    }\n",
       "\n",
       "    .dataframe thead th {\n",
       "        text-align: right;\n",
       "    }\n",
       "</style>\n",
       "<table border=\"1\" class=\"dataframe\">\n",
       "  <thead>\n",
       "    <tr style=\"text-align: right;\">\n",
       "      <th></th>\n",
       "      <th>Genre</th>\n",
       "      <th>Age</th>\n",
       "      <th>Annual Income (k$)</th>\n",
       "      <th>Spending Score (1-100)</th>\n",
       "      <th>Cluster</th>\n",
       "    </tr>\n",
       "  </thead>\n",
       "  <tbody>\n",
       "    <tr>\n",
       "      <th>0</th>\n",
       "      <td>1</td>\n",
       "      <td>19</td>\n",
       "      <td>15</td>\n",
       "      <td>39</td>\n",
       "      <td>4</td>\n",
       "    </tr>\n",
       "    <tr>\n",
       "      <th>1</th>\n",
       "      <td>1</td>\n",
       "      <td>21</td>\n",
       "      <td>15</td>\n",
       "      <td>81</td>\n",
       "      <td>2</td>\n",
       "    </tr>\n",
       "    <tr>\n",
       "      <th>2</th>\n",
       "      <td>0</td>\n",
       "      <td>20</td>\n",
       "      <td>16</td>\n",
       "      <td>6</td>\n",
       "      <td>4</td>\n",
       "    </tr>\n",
       "    <tr>\n",
       "      <th>3</th>\n",
       "      <td>0</td>\n",
       "      <td>23</td>\n",
       "      <td>16</td>\n",
       "      <td>77</td>\n",
       "      <td>2</td>\n",
       "    </tr>\n",
       "    <tr>\n",
       "      <th>4</th>\n",
       "      <td>0</td>\n",
       "      <td>31</td>\n",
       "      <td>17</td>\n",
       "      <td>40</td>\n",
       "      <td>4</td>\n",
       "    </tr>\n",
       "    <tr>\n",
       "      <th>...</th>\n",
       "      <td>...</td>\n",
       "      <td>...</td>\n",
       "      <td>...</td>\n",
       "      <td>...</td>\n",
       "      <td>...</td>\n",
       "    </tr>\n",
       "    <tr>\n",
       "      <th>195</th>\n",
       "      <td>0</td>\n",
       "      <td>35</td>\n",
       "      <td>120</td>\n",
       "      <td>79</td>\n",
       "      <td>1</td>\n",
       "    </tr>\n",
       "    <tr>\n",
       "      <th>196</th>\n",
       "      <td>0</td>\n",
       "      <td>45</td>\n",
       "      <td>126</td>\n",
       "      <td>28</td>\n",
       "      <td>3</td>\n",
       "    </tr>\n",
       "    <tr>\n",
       "      <th>197</th>\n",
       "      <td>1</td>\n",
       "      <td>32</td>\n",
       "      <td>126</td>\n",
       "      <td>74</td>\n",
       "      <td>1</td>\n",
       "    </tr>\n",
       "    <tr>\n",
       "      <th>198</th>\n",
       "      <td>1</td>\n",
       "      <td>32</td>\n",
       "      <td>137</td>\n",
       "      <td>18</td>\n",
       "      <td>3</td>\n",
       "    </tr>\n",
       "    <tr>\n",
       "      <th>199</th>\n",
       "      <td>1</td>\n",
       "      <td>30</td>\n",
       "      <td>137</td>\n",
       "      <td>83</td>\n",
       "      <td>1</td>\n",
       "    </tr>\n",
       "  </tbody>\n",
       "</table>\n",
       "<p>200 rows × 5 columns</p>\n",
       "</div>"
      ],
      "text/plain": [
       "     Genre  Age  Annual Income (k$)  Spending Score (1-100)  Cluster\n",
       "0        1   19                  15                      39        4\n",
       "1        1   21                  15                      81        2\n",
       "2        0   20                  16                       6        4\n",
       "3        0   23                  16                      77        2\n",
       "4        0   31                  17                      40        4\n",
       "..     ...  ...                 ...                     ...      ...\n",
       "195      0   35                 120                      79        1\n",
       "196      0   45                 126                      28        3\n",
       "197      1   32                 126                      74        1\n",
       "198      1   32                 137                      18        3\n",
       "199      1   30                 137                      83        1\n",
       "\n",
       "[200 rows x 5 columns]"
      ]
     },
     "execution_count": 74,
     "metadata": {},
     "output_type": "execute_result"
    }
   ],
   "source": [
    "df_scaled"
   ]
  },
  {
   "cell_type": "code",
   "execution_count": 75,
   "id": "bf2cd3e6",
   "metadata": {},
   "outputs": [
    {
     "data": {
      "application/vnd.microsoft.datawrangler.viewer.v0+json": {
       "columns": [
        {
         "name": "index",
         "rawType": "object",
         "type": "string"
        },
        {
         "name": "Genre",
         "rawType": "float64",
         "type": "float"
        },
        {
         "name": "Age",
         "rawType": "float64",
         "type": "float"
        },
        {
         "name": "Annual Income (k$)",
         "rawType": "float64",
         "type": "float"
        },
        {
         "name": "Spending Score (1-100)",
         "rawType": "float64",
         "type": "float"
        },
        {
         "name": "Cluster",
         "rawType": "float64",
         "type": "float"
        }
       ],
       "ref": "9bfc1f66-1a0c-4084-adc2-db5c67ab8b6d",
       "rows": [
        [
         "count",
         "200.0",
         "200.0",
         "200.0",
         "200.0",
         "200.0"
        ],
        [
         "mean",
         "0.44",
         "38.85",
         "60.56",
         "50.2",
         "1.385"
        ],
        [
         "std",
         "0.49763258630718094",
         "13.96900733155888",
         "26.264721165271244",
         "25.823521668370173",
         "1.4481924273150526"
        ],
        [
         "min",
         "0.0",
         "18.0",
         "15.0",
         "1.0",
         "0.0"
        ],
        [
         "25%",
         "0.0",
         "28.75",
         "41.5",
         "34.75",
         "0.0"
        ],
        [
         "50%",
         "0.0",
         "36.0",
         "61.5",
         "50.0",
         "1.0"
        ],
        [
         "75%",
         "1.0",
         "49.0",
         "78.0",
         "73.0",
         "3.0"
        ],
        [
         "max",
         "1.0",
         "70.0",
         "137.0",
         "99.0",
         "4.0"
        ]
       ],
       "shape": {
        "columns": 5,
        "rows": 8
       }
      },
      "text/html": [
       "<div>\n",
       "<style scoped>\n",
       "    .dataframe tbody tr th:only-of-type {\n",
       "        vertical-align: middle;\n",
       "    }\n",
       "\n",
       "    .dataframe tbody tr th {\n",
       "        vertical-align: top;\n",
       "    }\n",
       "\n",
       "    .dataframe thead th {\n",
       "        text-align: right;\n",
       "    }\n",
       "</style>\n",
       "<table border=\"1\" class=\"dataframe\">\n",
       "  <thead>\n",
       "    <tr style=\"text-align: right;\">\n",
       "      <th></th>\n",
       "      <th>Genre</th>\n",
       "      <th>Age</th>\n",
       "      <th>Annual Income (k$)</th>\n",
       "      <th>Spending Score (1-100)</th>\n",
       "      <th>Cluster</th>\n",
       "    </tr>\n",
       "  </thead>\n",
       "  <tbody>\n",
       "    <tr>\n",
       "      <th>count</th>\n",
       "      <td>200.000000</td>\n",
       "      <td>200.000000</td>\n",
       "      <td>200.000000</td>\n",
       "      <td>200.000000</td>\n",
       "      <td>200.000000</td>\n",
       "    </tr>\n",
       "    <tr>\n",
       "      <th>mean</th>\n",
       "      <td>0.440000</td>\n",
       "      <td>38.850000</td>\n",
       "      <td>60.560000</td>\n",
       "      <td>50.200000</td>\n",
       "      <td>1.385000</td>\n",
       "    </tr>\n",
       "    <tr>\n",
       "      <th>std</th>\n",
       "      <td>0.497633</td>\n",
       "      <td>13.969007</td>\n",
       "      <td>26.264721</td>\n",
       "      <td>25.823522</td>\n",
       "      <td>1.448192</td>\n",
       "    </tr>\n",
       "    <tr>\n",
       "      <th>min</th>\n",
       "      <td>0.000000</td>\n",
       "      <td>18.000000</td>\n",
       "      <td>15.000000</td>\n",
       "      <td>1.000000</td>\n",
       "      <td>0.000000</td>\n",
       "    </tr>\n",
       "    <tr>\n",
       "      <th>25%</th>\n",
       "      <td>0.000000</td>\n",
       "      <td>28.750000</td>\n",
       "      <td>41.500000</td>\n",
       "      <td>34.750000</td>\n",
       "      <td>0.000000</td>\n",
       "    </tr>\n",
       "    <tr>\n",
       "      <th>50%</th>\n",
       "      <td>0.000000</td>\n",
       "      <td>36.000000</td>\n",
       "      <td>61.500000</td>\n",
       "      <td>50.000000</td>\n",
       "      <td>1.000000</td>\n",
       "    </tr>\n",
       "    <tr>\n",
       "      <th>75%</th>\n",
       "      <td>1.000000</td>\n",
       "      <td>49.000000</td>\n",
       "      <td>78.000000</td>\n",
       "      <td>73.000000</td>\n",
       "      <td>3.000000</td>\n",
       "    </tr>\n",
       "    <tr>\n",
       "      <th>max</th>\n",
       "      <td>1.000000</td>\n",
       "      <td>70.000000</td>\n",
       "      <td>137.000000</td>\n",
       "      <td>99.000000</td>\n",
       "      <td>4.000000</td>\n",
       "    </tr>\n",
       "  </tbody>\n",
       "</table>\n",
       "</div>"
      ],
      "text/plain": [
       "            Genre         Age  Annual Income (k$)  Spending Score (1-100)  \\\n",
       "count  200.000000  200.000000          200.000000              200.000000   \n",
       "mean     0.440000   38.850000           60.560000               50.200000   \n",
       "std      0.497633   13.969007           26.264721               25.823522   \n",
       "min      0.000000   18.000000           15.000000                1.000000   \n",
       "25%      0.000000   28.750000           41.500000               34.750000   \n",
       "50%      0.000000   36.000000           61.500000               50.000000   \n",
       "75%      1.000000   49.000000           78.000000               73.000000   \n",
       "max      1.000000   70.000000          137.000000               99.000000   \n",
       "\n",
       "          Cluster  \n",
       "count  200.000000  \n",
       "mean     1.385000  \n",
       "std      1.448192  \n",
       "min      0.000000  \n",
       "25%      0.000000  \n",
       "50%      1.000000  \n",
       "75%      3.000000  \n",
       "max      4.000000  "
      ]
     },
     "execution_count": 75,
     "metadata": {},
     "output_type": "execute_result"
    }
   ],
   "source": [
    "df_scaled.describe()"
   ]
  },
  {
   "cell_type": "code",
   "execution_count": 76,
   "id": "622658d1",
   "metadata": {},
   "outputs": [
    {
     "data": {
      "text/plain": [
       "<Axes: xlabel='Annual Income (k$)', ylabel='Spending Score (1-100)'>"
      ]
     },
     "execution_count": 76,
     "metadata": {},
     "output_type": "execute_result"
    },
    {
     "data": {
      "image/png": "[encoded data removed]",
      "text/plain": [
       "<Figure size 640x480 with 1 Axes>"
      ]
     },
     "metadata": {},
     "output_type": "display_data"
    }
   ],
   "source": [
    "sns.scatterplot(data=df_scaled, x='Annual Income (k$)', y='Spending Score (1-100)', hue='Cluster', palette='viridis')"
   ]
  },
  {
   "cell_type": "code",
   "execution_count": 77,
   "id": "6ce2c41d",
   "metadata": {},
   "outputs": [
    {
     "data": {
      "image/png": "[encoded data removed]",
      "text/plain": [
       "<Figure size 640x480 with 1 Axes>"
      ]
     },
     "metadata": {},
     "output_type": "display_data"
    }
   ],
   "source": [
    "plt.scatter(x[:, 0], x[:, 1], c=labels, cmap='viridis')\n",
    "plt.xlabel('PCA 1')\n",
    "plt.ylabel('PCA 2')\n",
    "plt.title('K-Means Clustering (PCA-reduced)')\n",
    "plt.show()"
   ]
  },
  {
   "cell_type": "code",
   "execution_count": 78,
   "id": "056b6a05",
   "metadata": {},
   "outputs": [],
   "source": [
    "features = df_scaled.drop('Spending Score (1-100)', axis=1)\n",
    "target = df_scaled['Spending Score (1-100)']"
   ]
  },
  {
   "cell_type": "code",
   "execution_count": 79,
   "id": "9f164330",
   "metadata": {},
   "outputs": [],
   "source": [
    "x_train, x_test, y_train, y_test = train_test_split(features, target, test_size=0.2, random_state=42)"
   ]
  },
  {
   "cell_type": "code",
   "execution_count": 82,
   "id": "930afadd",
   "metadata": {},
   "outputs": [
    {
     "name": "stdout",
     "output_type": "stream",
     "text": [
      "Fitting 5 folds for each of 60 candidates, totalling 300 fits\n",
      "Best Parameters: {'subsample': 0.6, 'reg_lambda': 1, 'reg_alpha': 1, 'n_estimators': 300, 'max_depth': 3, 'learning_rate': 0.05, 'gamma': 0.4, 'colsample_bytree': 0.6}\n",
      "Best R² Score: 0.8342904686927796\n",
      "MSE Score: 88.96778869628906\n"
     ]
    }
   ],
   "source": [
    "from sklearn.model_selection import RandomizedSearchCV\n",
    "import numpy as np\n",
    "from xgboost import XGBRegressor\n",
    "\n",
    "params = {\n",
    "    'n_estimators': [100, 200, 300, 400, 500],\n",
    "    'max_depth': [3, 4, 5, 6, 7, 8, 9, 10],\n",
    "    'learning_rate': [0.01, 0.05, 0.1, 0.2, 0.3],\n",
    "    'subsample': [0.6, 0.7, 0.8, 0.9, 1.0],\n",
    "    'colsample_bytree': [0.6, 0.7, 0.8, 0.9, 1.0],\n",
    "    'gamma': [0, 0.1, 0.2, 0.3, 0.4],\n",
    "    'reg_alpha': [0, 0.01, 0.1, 1],\n",
    "    'reg_lambda': [0, 0.01, 0.1, 1]\n",
    "}\n",
    "\n",
    "random_search = RandomizedSearchCV(\n",
    "    XGBRegressor(),\n",
    "    param_distributions=params,\n",
    "    n_iter=60,           # Try 50 random combinations\n",
    "    scoring='r2',\n",
    "    cv=5,\n",
    "    random_state=42,\n",
    "    verbose=1,\n",
    "    n_jobs=-1\n",
    ")\n",
    "\n",
    "random_search.fit(x_train, y_train)\n",
    "\n",
    "from sklearn.metrics import mean_squared_error\n",
    "\n",
    "print(\"Best Parameters:\", random_search.best_params_)\n",
    "print(\"Best R² Score:\", random_search.best_score_)\n",
    "print(\"MSE Score:\", mean_squared_error(y_test, random_search.predict(x_test)))\n"
   ]
  },
  {
   "cell_type": "code",
   "execution_count": 84,
   "id": "8216eb93",
   "metadata": {},
   "outputs": [
    {
     "name": "stdout",
     "output_type": "stream",
     "text": [
      "Test R² Score: 0.819625735282898\n",
      "RMSE: 88.96778869628906\n"
     ]
    }
   ],
   "source": [
    "from sklearn.metrics import mean_squared_error, r2_score\n",
    "\n",
    "y_pred = random_search.predict(x_test)\n",
    "print(\"Test R² Score:\", r2_score(y_test, y_pred))\n",
    "print(\"RMSE:\", mean_squared_error(y_test, y_pred))\n"
   ]
  },
  {
   "cell_type": "code",
   "execution_count": 85,
   "id": "9e67c9e4",
   "metadata": {},
   "outputs": [
    {
     "data": {
      "image/png": "[encoded data removed]",
      "text/plain": [
       "<Figure size 640x480 with 1 Axes>"
      ]
     },
     "metadata": {},
     "output_type": "display_data"
    }
   ],
   "source": [
    "import matplotlib.pyplot as plt\n",
    "\n",
    "plt.scatter(y_test, y_pred, alpha=0.5)\n",
    "plt.plot([y_test.min(), y_test.max()], [y_test.min(), y_test.max()], '--r')\n",
    "plt.xlabel(\"Actual\")\n",
    "plt.ylabel(\"Predicted\")\n",
    "plt.title(\"Actual vs Predicted\")\n",
    "plt.grid(True)\n",
    "plt.show()\n"
   ]
  },
  {
   "cell_type": "code",
   "execution_count": null,
   "id": "967cf9f2",
   "metadata": {},
   "outputs": [],
   "source": [
    "fbf"
   ]
  }
 ],
 "metadata": {
  "kernelspec": {
   "display_name": "Python 3",
   "language": "python",
   "name": "python3"
  },
  "language_info": {
   "codemirror_mode": {
    "name": "ipython",
    "version": 3
   },
   "file_extension": ".py",
   "mimetype": "text/x-python",
   "name": "python",
   "nbconvert_exporter": "python",
   "pygments_lexer": "ipython3",
   "version": "3.13.2"
  }
 },
 "nbformat": 4,
 "nbformat_minor": 5
}
