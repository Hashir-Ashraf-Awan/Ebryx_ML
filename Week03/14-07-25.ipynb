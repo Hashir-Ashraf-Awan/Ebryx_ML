{
 "cells": [
  {
   "cell_type": "code",
   "execution_count": 43,
   "id": "7f52184f",
   "metadata": {},
   "outputs": [],
   "source": [
    "import numpy as np\n",
    "import pandas as pd\n",
    "from sklearn.linear_model import LinearRegression,LogisticRegression\n",
    "from sklearn.model_selection import train_test_split\n",
    "from sklearn.metrics import accuracy_score, confusion_matrix, classification_report\n",
    "from sklearn.preprocessing import StandardScaler, LabelEncoder\n",
    "from sklearn.tree import DecisionTreeClassifier\n",
    "import matplotlib.pyplot as plt\n",
    "import seaborn as sns\n",
    "from catboost import CatBoostRegressor\n",
    "import joblib\n",
    "from sklearn.cluster import KMeans\n",
    "from sklearn.model_selection import GridSearchCV\n",
    "import numpy as np\n",
    "import pandas as pd\n",
    "from sklearn.linear_model import LinearRegression,LogisticRegression\n",
    "from sklearn.model_selection import train_test_split\n",
    "from sklearn.metrics import accuracy_score, confusion_matrix, classification_report\n",
    "from sklearn.preprocessing import StandardScaler, LabelEncoder\n",
    "from sklearn.tree import DecisionTreeClassifier\n",
    "import matplotlib.pyplot as plt\n",
    "import seaborn as sns\n",
    "from sklearn.naive_bayes import GaussianNB\n",
    "from sklearn.neighbors import KNeighborsClassifier\n",
    "from sklearn.pipeline import Pipeline\n",
    "from sklearn.compose import ColumnTransformer\n",
    "from sklearn.impute import SimpleImputer\n",
    "from sklearn.preprocessing import OneHotEncoder\n",
    "from sklearn.model_selection import cross_val_predict\n",
    "from sklearn.metrics import classification_report\n",
    "from sklearn.model_selection import cross_val_score\n",
    "from sklearn.decomposition import PCA\n",
    "from sklearn.metrics import silhouette_score\n",
    "from lightgbm import LGBMClassifier\n",
    "from sklearn.metrics import r2_score,mean_squared_error"
   ]
  },
  {
   "cell_type": "code",
   "execution_count": 25,
   "id": "6ff56e6a",
   "metadata": {},
   "outputs": [
    {
     "data": {
      "application/vnd.microsoft.datawrangler.viewer.v0+json": {
       "columns": [
        {
         "name": "index",
         "rawType": "int64",
         "type": "integer"
        },
        {
         "name": "CustomerID",
         "rawType": "int64",
         "type": "integer"
        },
        {
         "name": "Genre",
         "rawType": "object",
         "type": "string"
        },
        {
         "name": "Age",
         "rawType": "int64",
         "type": "integer"
        },
        {
         "name": "Annual Income (k$)",
         "rawType": "int64",
         "type": "integer"
        },
        {
         "name": "Spending Score (1-100)",
         "rawType": "int64",
         "type": "integer"
        }
       ],
       "ref": "241adb31-33a3-4df6-b5d6-07d500778276",
       "rows": [
        [
         "0",
         "1",
         "Male",
         "19",
         "15",
         "39"
        ],
        [
         "1",
         "2",
         "Male",
         "21",
         "15",
         "81"
        ],
        [
         "2",
         "3",
         "Female",
         "20",
         "16",
         "6"
        ],
        [
         "3",
         "4",
         "Female",
         "23",
         "16",
         "77"
        ],
        [
         "4",
         "5",
         "Female",
         "31",
         "17",
         "40"
        ]
       ],
       "shape": {
        "columns": 5,
        "rows": 5
       }
      },
      "text/html": [
       "<div>\n",
       "<style scoped>\n",
       "    .dataframe tbody tr th:only-of-type {\n",
       "        vertical-align: middle;\n",
       "    }\n",
       "\n",
       "    .dataframe tbody tr th {\n",
       "        vertical-align: top;\n",
       "    }\n",
       "\n",
       "    .dataframe thead th {\n",
       "        text-align: right;\n",
       "    }\n",
       "</style>\n",
       "<table border=\"1\" class=\"dataframe\">\n",
       "  <thead>\n",
       "    <tr style=\"text-align: right;\">\n",
       "      <th></th>\n",
       "      <th>CustomerID</th>\n",
       "      <th>Genre</th>\n",
       "      <th>Age</th>\n",
       "      <th>Annual Income (k$)</th>\n",
       "      <th>Spending Score (1-100)</th>\n",
       "    </tr>\n",
       "  </thead>\n",
       "  <tbody>\n",
       "    <tr>\n",
       "      <th>0</th>\n",
       "      <td>1</td>\n",
       "      <td>Male</td>\n",
       "      <td>19</td>\n",
       "      <td>15</td>\n",
       "      <td>39</td>\n",
       "    </tr>\n",
       "    <tr>\n",
       "      <th>1</th>\n",
       "      <td>2</td>\n",
       "      <td>Male</td>\n",
       "      <td>21</td>\n",
       "      <td>15</td>\n",
       "      <td>81</td>\n",
       "    </tr>\n",
       "    <tr>\n",
       "      <th>2</th>\n",
       "      <td>3</td>\n",
       "      <td>Female</td>\n",
       "      <td>20</td>\n",
       "      <td>16</td>\n",
       "      <td>6</td>\n",
       "    </tr>\n",
       "    <tr>\n",
       "      <th>3</th>\n",
       "      <td>4</td>\n",
       "      <td>Female</td>\n",
       "      <td>23</td>\n",
       "      <td>16</td>\n",
       "      <td>77</td>\n",
       "    </tr>\n",
       "    <tr>\n",
       "      <th>4</th>\n",
       "      <td>5</td>\n",
       "      <td>Female</td>\n",
       "      <td>31</td>\n",
       "      <td>17</td>\n",
       "      <td>40</td>\n",
       "    </tr>\n",
       "  </tbody>\n",
       "</table>\n",
       "</div>"
      ],
      "text/plain": [
       "   CustomerID   Genre  Age  Annual Income (k$)  Spending Score (1-100)\n",
       "0           1    Male   19                  15                      39\n",
       "1           2    Male   21                  15                      81\n",
       "2           3  Female   20                  16                       6\n",
       "3           4  Female   23                  16                      77\n",
       "4           5  Female   31                  17                      40"
      ]
     },
     "execution_count": 25,
     "metadata": {},
     "output_type": "execute_result"
    }
   ],
   "source": [
    "df=pd.read_csv('Mall_Customers.csv')\n",
    "df.head()"
   ]
  },
  {
   "cell_type": "code",
   "execution_count": 26,
   "id": "d3e9b7ae",
   "metadata": {},
   "outputs": [],
   "source": [
    "df.drop(['CustomerID'], axis=1, inplace=True)"
   ]
  },
  {
   "cell_type": "code",
   "execution_count": 27,
   "id": "9a77ece0",
   "metadata": {},
   "outputs": [
    {
     "data": {
      "application/vnd.microsoft.datawrangler.viewer.v0+json": {
       "columns": [
        {
         "name": "index",
         "rawType": "object",
         "type": "string"
        },
        {
         "name": "Age",
         "rawType": "float64",
         "type": "float"
        },
        {
         "name": "Annual Income (k$)",
         "rawType": "float64",
         "type": "float"
        },
        {
         "name": "Spending Score (1-100)",
         "rawType": "float64",
         "type": "float"
        }
       ],
       "ref": "4975aeea-d2ba-428d-a200-6415f31863bd",
       "rows": [
        [
         "count",
         "200.0",
         "200.0",
         "200.0"
        ],
        [
         "mean",
         "38.85",
         "60.56",
         "50.2"
        ],
        [
         "std",
         "13.96900733155888",
         "26.264721165271244",
         "25.823521668370173"
        ],
        [
         "min",
         "18.0",
         "15.0",
         "1.0"
        ],
        [
         "25%",
         "28.75",
         "41.5",
         "34.75"
        ],
        [
         "50%",
         "36.0",
         "61.5",
         "50.0"
        ],
        [
         "75%",
         "49.0",
         "78.0",
         "73.0"
        ],
        [
         "max",
         "70.0",
         "137.0",
         "99.0"
        ]
       ],
       "shape": {
        "columns": 3,
        "rows": 8
       }
      },
      "text/html": [
       "<div>\n",
       "<style scoped>\n",
       "    .dataframe tbody tr th:only-of-type {\n",
       "        vertical-align: middle;\n",
       "    }\n",
       "\n",
       "    .dataframe tbody tr th {\n",
       "        vertical-align: top;\n",
       "    }\n",
       "\n",
       "    .dataframe thead th {\n",
       "        text-align: right;\n",
       "    }\n",
       "</style>\n",
       "<table border=\"1\" class=\"dataframe\">\n",
       "  <thead>\n",
       "    <tr style=\"text-align: right;\">\n",
       "      <th></th>\n",
       "      <th>Age</th>\n",
       "      <th>Annual Income (k$)</th>\n",
       "      <th>Spending Score (1-100)</th>\n",
       "    </tr>\n",
       "  </thead>\n",
       "  <tbody>\n",
       "    <tr>\n",
       "      <th>count</th>\n",
       "      <td>200.000000</td>\n",
       "      <td>200.000000</td>\n",
       "      <td>200.000000</td>\n",
       "    </tr>\n",
       "    <tr>\n",
       "      <th>mean</th>\n",
       "      <td>38.850000</td>\n",
       "      <td>60.560000</td>\n",
       "      <td>50.200000</td>\n",
       "    </tr>\n",
       "    <tr>\n",
       "      <th>std</th>\n",
       "      <td>13.969007</td>\n",
       "      <td>26.264721</td>\n",
       "      <td>25.823522</td>\n",
       "    </tr>\n",
       "    <tr>\n",
       "      <th>min</th>\n",
       "      <td>18.000000</td>\n",
       "      <td>15.000000</td>\n",
       "      <td>1.000000</td>\n",
       "    </tr>\n",
       "    <tr>\n",
       "      <th>25%</th>\n",
       "      <td>28.750000</td>\n",
       "      <td>41.500000</td>\n",
       "      <td>34.750000</td>\n",
       "    </tr>\n",
       "    <tr>\n",
       "      <th>50%</th>\n",
       "      <td>36.000000</td>\n",
       "      <td>61.500000</td>\n",
       "      <td>50.000000</td>\n",
       "    </tr>\n",
       "    <tr>\n",
       "      <th>75%</th>\n",
       "      <td>49.000000</td>\n",
       "      <td>78.000000</td>\n",
       "      <td>73.000000</td>\n",
       "    </tr>\n",
       "    <tr>\n",
       "      <th>max</th>\n",
       "      <td>70.000000</td>\n",
       "      <td>137.000000</td>\n",
       "      <td>99.000000</td>\n",
       "    </tr>\n",
       "  </tbody>\n",
       "</table>\n",
       "</div>"
      ],
      "text/plain": [
       "              Age  Annual Income (k$)  Spending Score (1-100)\n",
       "count  200.000000          200.000000              200.000000\n",
       "mean    38.850000           60.560000               50.200000\n",
       "std     13.969007           26.264721               25.823522\n",
       "min     18.000000           15.000000                1.000000\n",
       "25%     28.750000           41.500000               34.750000\n",
       "50%     36.000000           61.500000               50.000000\n",
       "75%     49.000000           78.000000               73.000000\n",
       "max     70.000000          137.000000               99.000000"
      ]
     },
     "execution_count": 27,
     "metadata": {},
     "output_type": "execute_result"
    }
   ],
   "source": [
    "df.describe()"
   ]
  },
  {
   "cell_type": "code",
   "execution_count": 28,
   "id": "1d3c2f87",
   "metadata": {},
   "outputs": [
    {
     "data": {
      "application/vnd.microsoft.datawrangler.viewer.v0+json": {
       "columns": [
        {
         "name": "index",
         "rawType": "object",
         "type": "string"
        },
        {
         "name": "0",
         "rawType": "int64",
         "type": "integer"
        }
       ],
       "ref": "d787d5c2-d4c5-4fbf-883d-48096ab198a6",
       "rows": [
        [
         "Genre",
         "0"
        ],
        [
         "Age",
         "0"
        ],
        [
         "Annual Income (k$)",
         "0"
        ],
        [
         "Spending Score (1-100)",
         "0"
        ]
       ],
       "shape": {
        "columns": 1,
        "rows": 4
       }
      },
      "text/plain": [
       "Genre                     0\n",
       "Age                       0\n",
       "Annual Income (k$)        0\n",
       "Spending Score (1-100)    0\n",
       "dtype: int64"
      ]
     },
     "execution_count": 28,
     "metadata": {},
     "output_type": "execute_result"
    }
   ],
   "source": [
    "df.isna().sum()"
   ]
  },
  {
   "cell_type": "code",
   "execution_count": 29,
   "id": "eab5ffe2",
   "metadata": {},
   "outputs": [
    {
     "data": {
      "text/plain": [
       "np.int64(0)"
      ]
     },
     "execution_count": 29,
     "metadata": {},
     "output_type": "execute_result"
    }
   ],
   "source": [
    "df.duplicated().sum()"
   ]
  },
  {
   "cell_type": "code",
   "execution_count": 30,
   "id": "d3270744",
   "metadata": {},
   "outputs": [],
   "source": [
    "encoder=LabelEncoder()\n",
    "df['Genre'] = encoder.fit_transform(df['Genre'])"
   ]
  },
  {
   "cell_type": "code",
   "execution_count": 31,
   "id": "149fdc9e",
   "metadata": {},
   "outputs": [],
   "source": [
    "scaler = StandardScaler()\n",
    "numeric_cols = df.select_dtypes(include=['float64', 'int64']).columns\n",
    "scaled_array = scaler.fit_transform(df[numeric_cols])\n",
    "df_scaled = pd.DataFrame(scaled_array, columns=numeric_cols)"
   ]
  },
  {
   "cell_type": "code",
   "execution_count": 32,
   "id": "25784208",
   "metadata": {},
   "outputs": [
    {
     "data": {
      "application/vnd.microsoft.datawrangler.viewer.v0+json": {
       "columns": [
        {
         "name": "index",
         "rawType": "object",
         "type": "string"
        },
        {
         "name": "Genre",
         "rawType": "float64",
         "type": "float"
        },
        {
         "name": "Age",
         "rawType": "float64",
         "type": "float"
        },
        {
         "name": "Annual Income (k$)",
         "rawType": "float64",
         "type": "float"
        },
        {
         "name": "Spending Score (1-100)",
         "rawType": "float64",
         "type": "float"
        }
       ],
       "ref": "1ccb6014-b23c-4836-bcb7-b02ec7d3d457",
       "rows": [
        [
         "count",
         "200.0",
         "200.0",
         "200.0",
         "200.0"
        ],
        [
         "mean",
         "3.1086244689504386e-17",
         "-1.021405182655144e-16",
         "-2.1316282072803005e-16",
         "-1.4654943925052067e-16"
        ],
        [
         "std",
         "1.0025094142341713",
         "1.002509414234171",
         "1.002509414234171",
         "1.002509414234171"
        ],
        [
         "min",
         "-0.8864052604279183",
         "-1.49633547972731",
         "-1.7389991930659485",
         "-1.9100207870073291"
        ],
        [
         "25%",
         "-0.8864052604279183",
         "-0.7248435657192247",
         "-0.7275093200139812",
         "-0.5997931129931552"
        ],
        [
         "50%",
         "-0.8864052604279183",
         "-0.20453506557423673",
         "0.035879263421465926",
         "-0.007764312142306325"
        ],
        [
         "75%",
         "1.1281521496355325",
         "0.728431900202983",
         "0.6656748447557098",
         "0.8851315842229084"
        ],
        [
         "max",
         "1.1281521496355325",
         "2.2355323833815683",
         "2.9176711658902788",
         "1.8944921627227165"
        ]
       ],
       "shape": {
        "columns": 4,
        "rows": 8
       }
      },
      "text/html": [
       "<div>\n",
       "<style scoped>\n",
       "    .dataframe tbody tr th:only-of-type {\n",
       "        vertical-align: middle;\n",
       "    }\n",
       "\n",
       "    .dataframe tbody tr th {\n",
       "        vertical-align: top;\n",
       "    }\n",
       "\n",
       "    .dataframe thead th {\n",
       "        text-align: right;\n",
       "    }\n",
       "</style>\n",
       "<table border=\"1\" class=\"dataframe\">\n",
       "  <thead>\n",
       "    <tr style=\"text-align: right;\">\n",
       "      <th></th>\n",
       "      <th>Genre</th>\n",
       "      <th>Age</th>\n",
       "      <th>Annual Income (k$)</th>\n",
       "      <th>Spending Score (1-100)</th>\n",
       "    </tr>\n",
       "  </thead>\n",
       "  <tbody>\n",
       "    <tr>\n",
       "      <th>count</th>\n",
       "      <td>2.000000e+02</td>\n",
       "      <td>2.000000e+02</td>\n",
       "      <td>2.000000e+02</td>\n",
       "      <td>2.000000e+02</td>\n",
       "    </tr>\n",
       "    <tr>\n",
       "      <th>mean</th>\n",
       "      <td>3.108624e-17</td>\n",
       "      <td>-1.021405e-16</td>\n",
       "      <td>-2.131628e-16</td>\n",
       "      <td>-1.465494e-16</td>\n",
       "    </tr>\n",
       "    <tr>\n",
       "      <th>std</th>\n",
       "      <td>1.002509e+00</td>\n",
       "      <td>1.002509e+00</td>\n",
       "      <td>1.002509e+00</td>\n",
       "      <td>1.002509e+00</td>\n",
       "    </tr>\n",
       "    <tr>\n",
       "      <th>min</th>\n",
       "      <td>-8.864053e-01</td>\n",
       "      <td>-1.496335e+00</td>\n",
       "      <td>-1.738999e+00</td>\n",
       "      <td>-1.910021e+00</td>\n",
       "    </tr>\n",
       "    <tr>\n",
       "      <th>25%</th>\n",
       "      <td>-8.864053e-01</td>\n",
       "      <td>-7.248436e-01</td>\n",
       "      <td>-7.275093e-01</td>\n",
       "      <td>-5.997931e-01</td>\n",
       "    </tr>\n",
       "    <tr>\n",
       "      <th>50%</th>\n",
       "      <td>-8.864053e-01</td>\n",
       "      <td>-2.045351e-01</td>\n",
       "      <td>3.587926e-02</td>\n",
       "      <td>-7.764312e-03</td>\n",
       "    </tr>\n",
       "    <tr>\n",
       "      <th>75%</th>\n",
       "      <td>1.128152e+00</td>\n",
       "      <td>7.284319e-01</td>\n",
       "      <td>6.656748e-01</td>\n",
       "      <td>8.851316e-01</td>\n",
       "    </tr>\n",
       "    <tr>\n",
       "      <th>max</th>\n",
       "      <td>1.128152e+00</td>\n",
       "      <td>2.235532e+00</td>\n",
       "      <td>2.917671e+00</td>\n",
       "      <td>1.894492e+00</td>\n",
       "    </tr>\n",
       "  </tbody>\n",
       "</table>\n",
       "</div>"
      ],
      "text/plain": [
       "              Genre           Age  Annual Income (k$)  Spending Score (1-100)\n",
       "count  2.000000e+02  2.000000e+02        2.000000e+02            2.000000e+02\n",
       "mean   3.108624e-17 -1.021405e-16       -2.131628e-16           -1.465494e-16\n",
       "std    1.002509e+00  1.002509e+00        1.002509e+00            1.002509e+00\n",
       "min   -8.864053e-01 -1.496335e+00       -1.738999e+00           -1.910021e+00\n",
       "25%   -8.864053e-01 -7.248436e-01       -7.275093e-01           -5.997931e-01\n",
       "50%   -8.864053e-01 -2.045351e-01        3.587926e-02           -7.764312e-03\n",
       "75%    1.128152e+00  7.284319e-01        6.656748e-01            8.851316e-01\n",
       "max    1.128152e+00  2.235532e+00        2.917671e+00            1.894492e+00"
      ]
     },
     "execution_count": 32,
     "metadata": {},
     "output_type": "execute_result"
    }
   ],
   "source": [
    "df_scaled.describe()"
   ]
  },
  {
   "cell_type": "code",
   "execution_count": 33,
   "id": "08d03c82",
   "metadata": {},
   "outputs": [],
   "source": [
    "upper_bound = {}\n",
    "lower_bound = {}\n",
    "\n",
    "for col in df_scaled.columns:\n",
    "    q1 = df_scaled[col].quantile(0.25)\n",
    "    q3 = df_scaled[col].quantile(0.75)\n",
    "    iqr = q3 - q1\n",
    "    upper_bound[col] = q3 + 1.5 * iqr\n",
    "    lower_bound[col] = q1 - 1.5 * iqr\n",
    "\n",
    "for col in df_scaled.columns:\n",
    "    df_scaled = df_scaled[(df_scaled[col] >= lower_bound[col]) & (df_scaled[col] <= upper_bound[col])]"
   ]
  },
  {
   "cell_type": "code",
   "execution_count": 34,
   "id": "ae4dda33",
   "metadata": {},
   "outputs": [
    {
     "data": {
      "application/vnd.microsoft.datawrangler.viewer.v0+json": {
       "columns": [
        {
         "name": "index",
         "rawType": "int64",
         "type": "integer"
        },
        {
         "name": "Genre",
         "rawType": "float64",
         "type": "float"
        },
        {
         "name": "Age",
         "rawType": "float64",
         "type": "float"
        },
        {
         "name": "Annual Income (k$)",
         "rawType": "float64",
         "type": "float"
        },
        {
         "name": "Spending Score (1-100)",
         "rawType": "float64",
         "type": "float"
        }
       ],
       "ref": "84ebf742-ff27-4076-82eb-6eb885ad29b6",
       "rows": [
        [
         "0",
         "1.1281521496355325",
         "-1.4245687900521393",
         "-1.7389991930659485",
         "-0.43480147996914814"
        ],
        [
         "1",
         "1.1281521496355325",
         "-1.2810354107017978",
         "-1.7389991930659485",
         "1.195704069915157"
        ],
        [
         "2",
         "-0.8864052604279183",
         "-1.3528021003769686",
         "-1.7008297638941763",
         "-1.7159129834496736"
        ],
        [
         "3",
         "-0.8864052604279183",
         "-1.1375020313514563",
         "-1.7008297638941763",
         "1.0404178270690327"
        ],
        [
         "4",
         "-0.8864052604279183",
         "-0.5633685139500905",
         "-1.6626603347224038",
         "-0.3959799192576171"
        ]
       ],
       "shape": {
        "columns": 4,
        "rows": 5
       }
      },
      "text/html": [
       "<div>\n",
       "<style scoped>\n",
       "    .dataframe tbody tr th:only-of-type {\n",
       "        vertical-align: middle;\n",
       "    }\n",
       "\n",
       "    .dataframe tbody tr th {\n",
       "        vertical-align: top;\n",
       "    }\n",
       "\n",
       "    .dataframe thead th {\n",
       "        text-align: right;\n",
       "    }\n",
       "</style>\n",
       "<table border=\"1\" class=\"dataframe\">\n",
       "  <thead>\n",
       "    <tr style=\"text-align: right;\">\n",
       "      <th></th>\n",
       "      <th>Genre</th>\n",
       "      <th>Age</th>\n",
       "      <th>Annual Income (k$)</th>\n",
       "      <th>Spending Score (1-100)</th>\n",
       "    </tr>\n",
       "  </thead>\n",
       "  <tbody>\n",
       "    <tr>\n",
       "      <th>0</th>\n",
       "      <td>1.128152</td>\n",
       "      <td>-1.424569</td>\n",
       "      <td>-1.738999</td>\n",
       "      <td>-0.434801</td>\n",
       "    </tr>\n",
       "    <tr>\n",
       "      <th>1</th>\n",
       "      <td>1.128152</td>\n",
       "      <td>-1.281035</td>\n",
       "      <td>-1.738999</td>\n",
       "      <td>1.195704</td>\n",
       "    </tr>\n",
       "    <tr>\n",
       "      <th>2</th>\n",
       "      <td>-0.886405</td>\n",
       "      <td>-1.352802</td>\n",
       "      <td>-1.700830</td>\n",
       "      <td>-1.715913</td>\n",
       "    </tr>\n",
       "    <tr>\n",
       "      <th>3</th>\n",
       "      <td>-0.886405</td>\n",
       "      <td>-1.137502</td>\n",
       "      <td>-1.700830</td>\n",
       "      <td>1.040418</td>\n",
       "    </tr>\n",
       "    <tr>\n",
       "      <th>4</th>\n",
       "      <td>-0.886405</td>\n",
       "      <td>-0.563369</td>\n",
       "      <td>-1.662660</td>\n",
       "      <td>-0.395980</td>\n",
       "    </tr>\n",
       "  </tbody>\n",
       "</table>\n",
       "</div>"
      ],
      "text/plain": [
       "      Genre       Age  Annual Income (k$)  Spending Score (1-100)\n",
       "0  1.128152 -1.424569           -1.738999               -0.434801\n",
       "1  1.128152 -1.281035           -1.738999                1.195704\n",
       "2 -0.886405 -1.352802           -1.700830               -1.715913\n",
       "3 -0.886405 -1.137502           -1.700830                1.040418\n",
       "4 -0.886405 -0.563369           -1.662660               -0.395980"
      ]
     },
     "execution_count": 34,
     "metadata": {},
     "output_type": "execute_result"
    }
   ],
   "source": [
    "df_scaled.head()"
   ]
  },
  {
   "cell_type": "code",
   "execution_count": 35,
   "id": "bc29b748",
   "metadata": {},
   "outputs": [],
   "source": [
    "pca = PCA(n_components=2, random_state=42)\n",
    "x = pca.fit_transform(df_scaled)"
   ]
  },
  {
   "cell_type": "code",
   "execution_count": 36,
   "id": "ee3ab262",
   "metadata": {},
   "outputs": [
    {
     "data": {
      "image/png": "[encoded data removed]",
      "text/plain": [
       "<Figure size 640x480 with 1 Axes>"
      ]
     },
     "metadata": {},
     "output_type": "display_data"
    }
   ],
   "source": [
    "WCSS = []\n",
    "for k in range(1, 11):\n",
    "    kmeans = KMeans(n_clusters=k, random_state=42)\n",
    "    kmeans.fit(x)\n",
    "    WCSS.append(kmeans.inertia_)\n",
    "\n",
    "plt.plot(range(1,11), WCSS, marker='o')\n",
    "plt.xlabel('k')\n",
    "plt.ylabel('wcss')\n",
    "plt.title('Elbow Method for Optimal k')\n",
    "plt.show()"
   ]
  },
  {
   "cell_type": "code",
   "execution_count": 37,
   "id": "45463e05",
   "metadata": {},
   "outputs": [],
   "source": [
    "model = KMeans(n_clusters=4, random_state=42)\n",
    "labels = model.fit_predict(x)\n",
    "df_scaled['Cluster'] = labels"
   ]
  },
  {
   "cell_type": "code",
   "execution_count": 38,
   "id": "622658d1",
   "metadata": {},
   "outputs": [
    {
     "data": {
      "text/plain": [
       "<Axes: xlabel='Annual Income (k$)', ylabel='Spending Score (1-100)'>"
      ]
     },
     "execution_count": 38,
     "metadata": {},
     "output_type": "execute_result"
    },
    {
     "data": {
      "image/png": "[encoded data removed]",
      "text/plain": [
       "<Figure size 640x480 with 1 Axes>"
      ]
     },
     "metadata": {},
     "output_type": "display_data"
    }
   ],
   "source": [
    "sns.scatterplot(data=df_scaled, x='Annual Income (k$)', y='Spending Score (1-100)', hue='Cluster', palette='viridis')"
   ]
  },
  {
   "cell_type": "code",
   "execution_count": 39,
   "id": "6ce2c41d",
   "metadata": {},
   "outputs": [
    {
     "data": {
      "image/png": "[encoded data removed]",
      "text/plain": [
       "<Figure size 640x480 with 1 Axes>"
      ]
     },
     "metadata": {},
     "output_type": "display_data"
    }
   ],
   "source": [
    "plt.scatter(x[:, 0], x[:, 1], c=labels, cmap='viridis')\n",
    "plt.xlabel('PCA 1')\n",
    "plt.ylabel('PCA 2')\n",
    "plt.title('K-Means Clustering (PCA-reduced)')\n",
    "plt.show()"
   ]
  },
  {
   "cell_type": "code",
   "execution_count": 48,
   "id": "f28c352f",
   "metadata": {},
   "outputs": [
    {
     "name": "stdout",
     "output_type": "stream",
     "text": [
      "Silhouette Score: 0.5503428307629536\n"
     ]
    }
   ],
   "source": [
    "score = silhouette_score(x, labels)\n",
    "print(\"Silhouette Score:\", score)"
   ]
  },
  {
   "cell_type": "code",
   "execution_count": 40,
   "id": "b9ba2140",
   "metadata": {},
   "outputs": [
    {
     "name": "stdout",
     "output_type": "stream",
     "text": [
      "              Age                                     Annual Income (k$)  \\\n",
      "             mean       std       min       max count               mean   \n",
      "Cluster                                                                    \n",
      "0        0.786456  1.000450 -1.424569  2.235532    47           0.010298   \n",
      "1       -0.750475  0.397036 -1.496335  0.082532    56          -0.005017   \n",
      "2        0.642568  0.718504 -1.352802  2.091999    56          -0.094987   \n",
      "3       -0.763947  0.506713 -1.496335  0.082532    39          -0.018439   \n",
      "\n",
      "                                            Spending Score (1-100)            \\\n",
      "              std       min       max count                   mean       std   \n",
      "Cluster                                                                        \n",
      "0        0.853209 -1.586321  2.001605    47              -0.805671  0.753248   \n",
      "1        0.994881 -1.700830  2.268791    56               0.697956  0.718284   \n",
      "2        0.997779 -1.700830  2.497807    56              -0.594940  0.633942   \n",
      "3        1.023009 -1.738999  2.497807    39               0.822420  0.653906   \n",
      "\n",
      "                                   \n",
      "              min       max count  \n",
      "Cluster                            \n",
      "0       -1.910021  0.380451    47  \n",
      "1       -0.823017  1.894492    56  \n",
      "2       -1.754735  0.341630    56  \n",
      "3       -0.434801  1.816849    39  \n"
     ]
    }
   ],
   "source": [
    "cluster_stats = df_scaled.groupby('Cluster')[['Age', 'Annual Income (k$)', 'Spending Score (1-100)']].agg(['mean', 'std', 'min', 'max', 'count'])\n",
    "print(cluster_stats)\n"
   ]
  },
  {
   "cell_type": "code",
   "execution_count": 41,
   "id": "2d554179",
   "metadata": {},
   "outputs": [],
   "source": [
    "cluster_labels = {\n",
    "    0: 'Frugal Elders',\n",
    "    1: 'Impulsive Youth',\n",
    "    2: 'Conservative Adults',\n",
    "    3: 'Enthusiastic Shoppers'\n",
    "}\n",
    "\n",
    "df_scaled['Cluster'] =df_scaled['Cluster'].map(cluster_labels)"
   ]
  },
  {
   "cell_type": "code",
   "execution_count": 42,
   "id": "217954dc",
   "metadata": {},
   "outputs": [
    {
     "data": {
      "application/vnd.microsoft.datawrangler.viewer.v0+json": {
       "columns": [
        {
         "name": "index",
         "rawType": "int64",
         "type": "integer"
        },
        {
         "name": "Genre",
         "rawType": "float64",
         "type": "float"
        },
        {
         "name": "Age",
         "rawType": "float64",
         "type": "float"
        },
        {
         "name": "Annual Income (k$)",
         "rawType": "float64",
         "type": "float"
        },
        {
         "name": "Spending Score (1-100)",
         "rawType": "float64",
         "type": "float"
        },
        {
         "name": "Cluster",
         "rawType": "object",
         "type": "string"
        }
       ],
       "ref": "1e446daa-995c-4534-b6d2-4911ce159a65",
       "rows": [
        [
         "0",
         "1.1281521496355325",
         "-1.4245687900521393",
         "-1.7389991930659485",
         "-0.43480147996914814",
         "Enthusiastic Shoppers"
        ],
        [
         "1",
         "1.1281521496355325",
         "-1.2810354107017978",
         "-1.7389991930659485",
         "1.195704069915157",
         "Enthusiastic Shoppers"
        ],
        [
         "2",
         "-0.8864052604279183",
         "-1.3528021003769686",
         "-1.7008297638941763",
         "-1.7159129834496736",
         "Conservative Adults"
        ],
        [
         "3",
         "-0.8864052604279183",
         "-1.1375020313514563",
         "-1.7008297638941763",
         "1.0404178270690327",
         "Impulsive Youth"
        ],
        [
         "4",
         "-0.8864052604279183",
         "-0.5633685139500905",
         "-1.6626603347224038",
         "-0.3959799192576171",
         "Conservative Adults"
        ]
       ],
       "shape": {
        "columns": 5,
        "rows": 5
       }
      },
      "text/html": [
       "<div>\n",
       "<style scoped>\n",
       "    .dataframe tbody tr th:only-of-type {\n",
       "        vertical-align: middle;\n",
       "    }\n",
       "\n",
       "    .dataframe tbody tr th {\n",
       "        vertical-align: top;\n",
       "    }\n",
       "\n",
       "    .dataframe thead th {\n",
       "        text-align: right;\n",
       "    }\n",
       "</style>\n",
       "<table border=\"1\" class=\"dataframe\">\n",
       "  <thead>\n",
       "    <tr style=\"text-align: right;\">\n",
       "      <th></th>\n",
       "      <th>Genre</th>\n",
       "      <th>Age</th>\n",
       "      <th>Annual Income (k$)</th>\n",
       "      <th>Spending Score (1-100)</th>\n",
       "      <th>Cluster</th>\n",
       "    </tr>\n",
       "  </thead>\n",
       "  <tbody>\n",
       "    <tr>\n",
       "      <th>0</th>\n",
       "      <td>1.128152</td>\n",
       "      <td>-1.424569</td>\n",
       "      <td>-1.738999</td>\n",
       "      <td>-0.434801</td>\n",
       "      <td>Enthusiastic Shoppers</td>\n",
       "    </tr>\n",
       "    <tr>\n",
       "      <th>1</th>\n",
       "      <td>1.128152</td>\n",
       "      <td>-1.281035</td>\n",
       "      <td>-1.738999</td>\n",
       "      <td>1.195704</td>\n",
       "      <td>Enthusiastic Shoppers</td>\n",
       "    </tr>\n",
       "    <tr>\n",
       "      <th>2</th>\n",
       "      <td>-0.886405</td>\n",
       "      <td>-1.352802</td>\n",
       "      <td>-1.700830</td>\n",
       "      <td>-1.715913</td>\n",
       "      <td>Conservative Adults</td>\n",
       "    </tr>\n",
       "    <tr>\n",
       "      <th>3</th>\n",
       "      <td>-0.886405</td>\n",
       "      <td>-1.137502</td>\n",
       "      <td>-1.700830</td>\n",
       "      <td>1.040418</td>\n",
       "      <td>Impulsive Youth</td>\n",
       "    </tr>\n",
       "    <tr>\n",
       "      <th>4</th>\n",
       "      <td>-0.886405</td>\n",
       "      <td>-0.563369</td>\n",
       "      <td>-1.662660</td>\n",
       "      <td>-0.395980</td>\n",
       "      <td>Conservative Adults</td>\n",
       "    </tr>\n",
       "  </tbody>\n",
       "</table>\n",
       "</div>"
      ],
      "text/plain": [
       "      Genre       Age  Annual Income (k$)  Spending Score (1-100)  \\\n",
       "0  1.128152 -1.424569           -1.738999               -0.434801   \n",
       "1  1.128152 -1.281035           -1.738999                1.195704   \n",
       "2 -0.886405 -1.352802           -1.700830               -1.715913   \n",
       "3 -0.886405 -1.137502           -1.700830                1.040418   \n",
       "4 -0.886405 -0.563369           -1.662660               -0.395980   \n",
       "\n",
       "                 Cluster  \n",
       "0  Enthusiastic Shoppers  \n",
       "1  Enthusiastic Shoppers  \n",
       "2    Conservative Adults  \n",
       "3        Impulsive Youth  \n",
       "4    Conservative Adults  "
      ]
     },
     "execution_count": 42,
     "metadata": {},
     "output_type": "execute_result"
    }
   ],
   "source": [
    "df_scaled.head()"
   ]
  },
  {
   "cell_type": "code",
   "execution_count": 49,
   "id": "3fa60b84",
   "metadata": {},
   "outputs": [
    {
     "name": "stdout",
     "output_type": "stream",
     "text": [
      "KNN Test Accuracy: 1.0\n",
      "KNN CV Scores: [0.96875    0.96875    0.9375     1.         0.96774194]\n",
      "KNN CV Best: 1.0\n",
      "KNN CV Mean: 0.9685483870967742\n",
      "KNN CV Diff: 0.031451612903225845\n",
      "Naive Bayes Test Accuracy: 1.0\n",
      "Naive Bayes CV Scores: [1.      0.9375  0.96875 1.      1.     ]\n",
      "Naive Bayes CV Best: 1.0\n",
      "Naive Bayes CV Mean: 0.98125\n",
      "Naive Bayes CV Diff: 0.018750000000000044\n",
      "Decision Tree Test Accuracy: 0.95\n",
      "Decision Tree CV Scores: [1.         0.90625    0.9375     1.         0.96774194]\n",
      "Decision Tree CV Best: 1.0\n",
      "Decision Tree CV Mean: 0.9622983870967742\n",
      "Decision Tree CV Diff: 0.03770161290322582\n"
     ]
    }
   ],
   "source": [
    "features = df_scaled.drop(['Cluster'], axis=1)\n",
    "target = df_scaled['Cluster']\n",
    "x_train, x_test, y_train, y_test = train_test_split(features, target, test_size=0.2, random_state=42)\n",
    "\n",
    "knn_pipeline = Pipeline([\n",
    "    ('scaler', StandardScaler()),\n",
    "    ('knn', KNeighborsClassifier(n_neighbors=3))\n",
    "])\n",
    "knn_pipeline.fit(x_train, y_train)\n",
    "knn_scores = cross_val_score(knn_pipeline, x_train, y_train, cv=5)\n",
    "print(\"KNN Test Accuracy:\", knn_pipeline.score(x_test, y_test))\n",
    "print(\"KNN CV Scores:\", knn_scores)\n",
    "print(\"KNN CV Best:\", np.max(knn_scores))\n",
    "print(\"KNN CV Mean:\", np.mean(knn_scores))\n",
    "print(\"KNN CV Diff:\", np.max(knn_scores) - np.mean(knn_scores))\n",
    "\n",
    "nb_pipeline = Pipeline([\n",
    "    ('scaler', StandardScaler()),\n",
    "    ('nb', GaussianNB())\n",
    "])\n",
    "nb_pipeline.fit(x_train, y_train)\n",
    "nb_scores = cross_val_score(nb_pipeline, x_train, y_train, cv=5)\n",
    "print(\"Naive Bayes Test Accuracy:\", nb_pipeline.score(x_test, y_test))\n",
    "print(\"Naive Bayes CV Scores:\", nb_scores)\n",
    "print(\"Naive Bayes CV Best:\", np.max(nb_scores))\n",
    "print(\"Naive Bayes CV Mean:\", np.mean(nb_scores))\n",
    "print(\"Naive Bayes CV Diff:\", np.max(nb_scores) - np.mean(nb_scores))\n",
    "\n",
    "dt_pipeline = Pipeline([\n",
    "    ('scaler', StandardScaler()),\n",
    "    ('dt', DecisionTreeClassifier())\n",
    "])\n",
    "dt_pipeline.fit(x_train, y_train)\n",
    "dt_scores = cross_val_score(dt_pipeline, x_train, y_train, cv=5)\n",
    "print(\"Decision Tree Test Accuracy:\", dt_pipeline.score(x_test, y_test))\n",
    "print(\"Decision Tree CV Scores:\", dt_scores)\n",
    "print(\"Decision Tree CV Best:\", np.max(dt_scores))\n",
    "print(\"Decision Tree CV Mean:\", np.mean(dt_scores))\n",
    "print(\"Decision Tree CV Diff:\", np.max(dt_scores) - np.mean(dt_scores))\n"
   ]
  },
  {
   "cell_type": "code",
   "execution_count": 50,
   "id": "42b55c6b",
   "metadata": {},
   "outputs": [
    {
     "data": {
      "image/png": "[encoded data removed]",
      "text/plain": [
       "<Figure size 400x300 with 1 Axes>"
      ]
     },
     "metadata": {},
     "output_type": "display_data"
    },
    {
     "name": "stdout",
     "output_type": "stream",
     "text": [
      "Classification Report: KNN\n",
      "                       precision    recall  f1-score   support\n",
      "\n",
      "  Conservative Adults       1.00      0.89      0.94         9\n",
      "Enthusiastic Shoppers       1.00      0.86      0.92         7\n",
      "        Frugal Elders       1.00      1.00      1.00        10\n",
      "      Impulsive Youth       0.88      1.00      0.93        14\n",
      "\n",
      "             accuracy                           0.95        40\n",
      "            macro avg       0.97      0.94      0.95        40\n",
      "         weighted avg       0.96      0.95      0.95        40\n",
      "\n"
     ]
    },
    {
     "data": {
      "image/png": "[encoded data removed]",
      "text/plain": [
       "<Figure size 400x300 with 1 Axes>"
      ]
     },
     "metadata": {},
     "output_type": "display_data"
    },
    {
     "name": "stdout",
     "output_type": "stream",
     "text": [
      "Classification Report: Naive Bayes\n",
      "                       precision    recall  f1-score   support\n",
      "\n",
      "  Conservative Adults       1.00      0.89      0.94         9\n",
      "Enthusiastic Shoppers       1.00      1.00      1.00         7\n",
      "        Frugal Elders       1.00      1.00      1.00        10\n",
      "      Impulsive Youth       0.93      1.00      0.97        14\n",
      "\n",
      "             accuracy                           0.97        40\n",
      "            macro avg       0.98      0.97      0.98        40\n",
      "         weighted avg       0.98      0.97      0.97        40\n",
      "\n"
     ]
    },
    {
     "data": {
      "image/png": "[encoded data removed]",
      "text/plain": [
       "<Figure size 400x300 with 1 Axes>"
      ]
     },
     "metadata": {},
     "output_type": "display_data"
    },
    {
     "name": "stdout",
     "output_type": "stream",
     "text": [
      "Classification Report: Decision Tree\n",
      "                       precision    recall  f1-score   support\n",
      "\n",
      "  Conservative Adults       0.89      0.89      0.89         9\n",
      "Enthusiastic Shoppers       1.00      0.71      0.83         7\n",
      "        Frugal Elders       0.83      1.00      0.91        10\n",
      "      Impulsive Youth       0.93      0.93      0.93        14\n",
      "\n",
      "             accuracy                           0.90        40\n",
      "            macro avg       0.91      0.88      0.89        40\n",
      "         weighted avg       0.91      0.90      0.90        40\n",
      "\n"
     ]
    }
   ],
   "source": [
    "def plot_confusion_matrix(y_true, y_pred, title):\n",
    "    cm = confusion_matrix(y_true, y_pred)\n",
    "    plt.figure(figsize=(4, 3))\n",
    "    sns.heatmap(cm, annot=True, fmt='d', cmap='Blues', cbar=False)\n",
    "    plt.title(title)\n",
    "    plt.xlabel(\"Predicted\")\n",
    "    plt.ylabel(\"Actual\")\n",
    "    plt.tight_layout()\n",
    "    plt.show()\n",
    "\n",
    "y_pred_knn = cross_val_predict(knn_pipeline, x_test, y_test, cv=3)\n",
    "y_pred_nb = cross_val_predict(nb_pipeline, x_test, y_test, cv=3)\n",
    "y_pred_dt = cross_val_predict(dt_pipeline, x_test, y_test, cv=3)\n",
    "y_pred_lr = cross_val_predict(lr_pipeline, x_test, y_test, cv=3)\n",
    "\n",
    "plot_confusion_matrix(y_test, y_pred_knn, \"Confusion Matrix: KNN\")\n",
    "print(\"Classification Report: KNN\")\n",
    "print(classification_report(y_test, y_pred_knn))\n",
    "\n",
    "plot_confusion_matrix(y_test, y_pred_nb, \"Confusion Matrix: Naive Bayes\")\n",
    "print(\"Classification Report: Naive Bayes\")\n",
    "print(classification_report(y_test, y_pred_nb))\n",
    "\n",
    "plot_confusion_matrix(y_test, y_pred_dt, \"Confusion Matrix: Decision Tree\")\n",
    "print(\"Classification Report: Decision Tree\")\n",
    "print(classification_report(y_test, y_pred_dt))\n",
    "\n"
   ]
  },
  {
   "cell_type": "code",
   "execution_count": 51,
   "id": "e1fcf2b2",
   "metadata": {},
   "outputs": [
    {
     "data": {
      "text/plain": [
       "['scaler.pkl']"
      ]
     },
     "execution_count": 51,
     "metadata": {},
     "output_type": "execute_result"
    }
   ],
   "source": [
    "joblib.dump(knn_pipeline, \"knn_model.pkl\")\n",
    "joblib.dump(nb_pipeline, \"nb_model.pkl\")\n",
    "joblib.dump(dt_pipeline, \"dt_model.pkl\")\n",
    "joblib.dump(scaler, \"scaler.pkl\")"
   ]
  },
  {
   "cell_type": "code",
   "execution_count": null,
   "id": "3c513de9",
   "metadata": {},
   "outputs": [],
   "source": []
  }
 ],
 "metadata": {
  "kernelspec": {
   "display_name": "Python 3",
   "language": "python",
   "name": "python3"
  },
  "language_info": {
   "codemirror_mode": {
    "name": "ipython",
    "version": 3
   },
   "file_extension": ".py",
   "mimetype": "text/x-python",
   "name": "python",
   "nbconvert_exporter": "python",
   "pygments_lexer": "ipython3",
   "version": "3.13.2"
  }
 },
 "nbformat": 4,
 "nbformat_minor": 5
}
